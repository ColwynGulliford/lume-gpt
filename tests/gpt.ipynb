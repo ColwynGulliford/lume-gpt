{
 "cells": [
  {
   "cell_type": "code",
   "execution_count": 14,
   "id": "c6dfe332-bdb2-46b4-af95-9e06bce92dbc",
   "metadata": {},
   "outputs": [],
   "source": [
    "import os\n",
    "import tempfile\n",
    "\n",
    "from gpt import GPT"
   ]
  },
  {
   "cell_type": "code",
   "execution_count": 48,
   "id": "0fc6984c-040e-4f8d-9c12-c5114fe36770",
   "metadata": {},
   "outputs": [],
   "source": [
    "def test_set_variable():\n",
    "    \n",
    "    G1 = GPT('../examples/templates/dcgun/gpt.in')\n",
    "    workdir = G1.tempdir.name\n",
    "    \n",
    "    assert os.path.exists(workdir)\n",
    "    assert G1.set_variable('gun_voltage', 350)\n",
    "    assert not G1.set_variable('foobar', 350)\n",
    "    \n",
    "    G1.run()\n",
    "\n",
    "    with open(os.path.join(workdir, 'gpt.in'), 'r') as fid:\n",
    "        for line in fid:\n",
    "            if line.strip().startswith('gun_voltage='):\n",
    "                line = line.replace(';', '')\n",
    "                line = line.strip()\n",
    "                setting = float(line.split('=')[1])\n",
    "                assert setting == 350.0\n",
    "\n",
    "    G2 = GPT(os.path.join(workdir, 'gpt.in'))\n",
    "    assert G2.input['variables']['gun_voltage']==350\n",
    "\n",
    "test_set_variable()    "
   ]
  },
  {
   "cell_type": "code",
   "execution_count": 53,
   "id": "5948a201-b5a9-4327-a566-498f0d347761",
   "metadata": {},
   "outputs": [],
   "source": [
    "def test_set_variables():\n",
    "    \n",
    "    G1 = GPT('../examples/templates/dcgun/gpt.in')\n",
    "    workdir = G1.tempdir.name\n",
    "    assert os.path.exists(workdir)\n",
    "    \n",
    "    res = G1.set_variables({'gun_voltage':350, 'sol_1_current':3.11, 'foobar':-12})\n",
    "    assert res['gun_voltage']\n",
    "    assert res['sol_1_current']\n",
    "    assert not res['foobar']\n",
    "    \n",
    "    G1.run()\n",
    "\n",
    "    with open(os.path.join(workdir, 'gpt.in'), 'r') as fid:\n",
    "        for line in fid:\n",
    "            if line.strip().startswith('gun_voltage='):\n",
    "                line = line.replace(';', '')\n",
    "                line = line.strip()\n",
    "                setting = float(line.split('=')[1])\n",
    "                assert setting == 350.0\n",
    "            if line.strip().startswith('solenoid_1_current='):\n",
    "                line = line.replace(';', '')\n",
    "                line = line.strip()\n",
    "                setting = float(line.split('=')[1])\n",
    "                assert setting == 3.11\n",
    "\n",
    "    G2 = GPT(os.path.join(workdir, 'gpt.in'))\n",
    "    assert G2.input['variables']['gun_voltage']==350\n",
    "    assert G2.input['variables']['sol_1_current']==3.11\n",
    "\n",
    "test_set_variables()   "
   ]
  },
  {
   "cell_type": "code",
   "execution_count": null,
   "id": "c0b874a7-5b05-402f-a213-efe129b76170",
   "metadata": {},
   "outputs": [],
   "source": [
    "def test_dcgun_run():"
   ]
  }
 ],
 "metadata": {
  "kernelspec": {
   "display_name": "Python 3 (ipykernel)",
   "language": "python",
   "name": "python3"
  },
  "language_info": {
   "codemirror_mode": {
    "name": "ipython",
    "version": 3
   },
   "file_extension": ".py",
   "mimetype": "text/x-python",
   "name": "python",
   "nbconvert_exporter": "python",
   "pygments_lexer": "ipython3",
   "version": "3.13.2"
  }
 },
 "nbformat": 4,
 "nbformat_minor": 5
}
