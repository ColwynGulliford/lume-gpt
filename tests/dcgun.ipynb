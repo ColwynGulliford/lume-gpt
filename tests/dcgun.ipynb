{
 "cells": [
  {
   "cell_type": "code",
   "execution_count": 21,
   "id": "4ae7c500-3cbc-44a5-ab8c-79823a0f13c6",
   "metadata": {},
   "outputs": [],
   "source": [
    "from gpt import GPT\n",
    "\n",
    "import numpy as np"
   ]
  },
  {
   "cell_type": "code",
   "execution_count": 6,
   "id": "a5f8f439-48a5-436c-984f-dfc34085563c",
   "metadata": {},
   "outputs": [],
   "source": [
    "def create_archive():\n",
    "    G = GPT('../examples/templates/dcgun/gpt.in')\n",
    "    G.set_variables({'gun_voltage':375,'sol_1_current':-3, 'Ntout':100})\n",
    "    G.run()\n",
    "    G.archive('../examples/templates/dcgun/test.gpt.h5')"
   ]
  },
  {
   "cell_type": "code",
   "execution_count": 7,
   "id": "f26a54c0-fdb2-426b-bcfd-fc2ffd11af91",
   "metadata": {},
   "outputs": [],
   "source": [
    "#create_archive()   # This should only be run by expert"
   ]
  },
  {
   "cell_type": "code",
   "execution_count": 31,
   "id": "107d67f4-fcc0-44c1-85a9-d3070812be02",
   "metadata": {},
   "outputs": [],
   "source": [
    "def test_dcgun_template():\n",
    "\n",
    "    # Load test archive\n",
    "    G1 = GPT()\n",
    "    G1.load_archive('../examples/templates/dcgun/test.gpt.h5')\n",
    "\n",
    "    # Rerun test sim\n",
    "    G = GPT('../examples/templates/dcgun/gpt.in')\n",
    "    G.set_variables({'gun_voltage':375,'sol_1_current':-3, 'Ntout':100})\n",
    "    G.run()\n",
    "\n",
    "    assert G.n_screen == G1.n_screen, 'Inconsistent number of screens'\n",
    "    assert G.n_tout == G1.n_tout, 'Inconsistent number of touts'\n",
    "\n",
    "    keys = ['x', 'y', 'z', 'px', 'pz', 'py', 't', 'id']\n",
    "    \n",
    "    for ii, scr in enumerate(G.screen):\n",
    "\n",
    "        for key in keys:\n",
    "            assert np.all(np.isclose(scr[key], G1.screen[ii][key]))\n",
    "\n",
    "    for ii, tout in enumerate(G.tout):\n",
    "\n",
    "        for key in keys:\n",
    "            assert np.all(np.isclose(tout[key], G1.tout[ii][key]))\n",
    "            "
   ]
  },
  {
   "cell_type": "code",
   "execution_count": 32,
   "id": "b8c960b6-e4eb-4525-b2b5-e0b050a074d6",
   "metadata": {},
   "outputs": [],
   "source": [
    "test_dcgun_template()"
   ]
  },
  {
   "cell_type": "code",
   "execution_count": null,
   "id": "84ba6116-f4a5-41c9-a7e7-d67f7ed51dd7",
   "metadata": {},
   "outputs": [],
   "source": []
  }
 ],
 "metadata": {
  "kernelspec": {
   "display_name": "Python 3 (ipykernel)",
   "language": "python",
   "name": "python3"
  },
  "language_info": {
   "codemirror_mode": {
    "name": "ipython",
    "version": 3
   },
   "file_extension": ".py",
   "mimetype": "text/x-python",
   "name": "python",
   "nbconvert_exporter": "python",
   "pygments_lexer": "ipython3",
   "version": "3.13.2"
  }
 },
 "nbformat": 4,
 "nbformat_minor": 5
}
