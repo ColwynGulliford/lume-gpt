{
 "cells": [
  {
   "cell_type": "code",
   "execution_count": 1,
   "id": "eb468770-6377-4d33-a80e-8c4c789ef85f",
   "metadata": {},
   "outputs": [],
   "source": [
    "GPTFILE = \"\"\"\n",
    "# Start divergent electron beam polarised in the x-direction\n",
    "gs = 2.00231930436256 ;\n",
    "GBz = 2.0 ;\n",
    "pr = 0.1 ;\n",
    "setparticles(\"beam\",1000,me,qe,0,gs) ;\n",
    "setGBrxydist(\"beam\",\"u\",pr/2,pr) ;\n",
    "setGBphidist(\"beam\",\"u\",0,2*pi) ;\n",
    "setGBzdist(\"beam\",\"u\",GBz,0) ;\n",
    "setspinxdist(\"beam\",\"u\",1,0) ;\n",
    "\n",
    "# Set-up\n",
    "nI = 6600 ;\n",
    "radius = 0.1 ;\n",
    "solenoid(\"wcs\",\"z\",0.5, radius,nI) ;\n",
    "\n",
    "# Tracking and output\n",
    "accuracy(5,5,6) ;\n",
    "tout(0,1.2/c,0.01/c) ;\n",
    "#screen(\"wcs\",\"I\",1) ;\n",
    "\n",
    "# Estimated spin-rotation\n",
    "pp(\"Estimated spin rotation:\", -(qe/(me*c*GBz)) * mu0*nI , \"radians\") ;\n",
    "\n",
    "\"\"\""
   ]
  },
  {
   "cell_type": "code",
   "execution_count": 2,
   "id": "c7d894be-3759-48de-8065-8db1898604a4",
   "metadata": {},
   "outputs": [],
   "source": [
    "with open('gptspin.in', 'w') as fid:\n",
    "    fid.write(GPTFILE)\n",
    "    "
   ]
  },
  {
   "cell_type": "code",
   "execution_count": 3,
   "id": "79c76039-9835-47b5-b2b1-8ae3f2100ce1",
   "metadata": {},
   "outputs": [],
   "source": [
    "from gpt import GPT"
   ]
  },
  {
   "cell_type": "code",
   "execution_count": 4,
   "id": "597b4275-e3a3-4b09-ad98-11278c28a59d",
   "metadata": {},
   "outputs": [],
   "source": [
    "G = GPT('gptspin.in', spin_tracking=True)"
   ]
  },
  {
   "cell_type": "code",
   "execution_count": 5,
   "id": "f97f208d-5a95-4421-8d2a-d0f91e93c1f9",
   "metadata": {},
   "outputs": [],
   "source": [
    "G.run()"
   ]
  },
  {
   "cell_type": "code",
   "execution_count": 7,
   "id": "03abdf7b-0094-41ed-a0e6-1ca588048ffc",
   "metadata": {},
   "outputs": [
    {
     "data": {
      "text/plain": [
       "array([1.        , 1.        , 1.        , 1.        , 1.        ,\n",
       "       1.        , 1.        , 1.        , 1.        , 1.        ,\n",
       "       1.        , 1.        , 1.        , 1.        , 0.99999999,\n",
       "       0.99999999, 0.99999999, 0.99999998, 0.99999997, 0.99999996,\n",
       "       0.99999995, 0.99999993, 0.9999999 , 0.99999986, 0.99999981,\n",
       "       0.99999973, 0.99999964, 0.9999995 , 0.99999932, 0.99999907,\n",
       "       0.99999873, 0.99999827, 0.99999763, 0.99999676, 0.99999556,\n",
       "       0.99999391, 0.99999161, 0.99998843, 0.999984  , 0.99997781,\n",
       "       0.99996914, 0.99995701, 0.99994   , 0.99991618, 0.99988294,\n",
       "       0.99983678, 0.99977329, 0.99968715, 0.99957261, 0.99942447,\n",
       "       0.99924013, 0.99902241, 0.99878288, 0.99854396, 0.99833747,\n",
       "       0.99819774, 0.99815043, 0.9982021 , 0.99833701, 0.99852335,\n",
       "       0.99872507, 0.99891261, 0.99906807, 0.99918494, 0.99926482,\n",
       "       0.99931362, 0.9993386 , 0.99934663, 0.99934341, 0.99933328,\n",
       "       0.99931934, 0.9993037 , 0.99928773, 0.99927227, 0.9992578 ,\n",
       "       0.99924453, 0.99923256, 0.99922188, 0.99921241, 0.99920407,\n",
       "       0.99919675, 0.99919033, 0.99918473, 0.99917983, 0.99917557,\n",
       "       0.99917184, 0.9991686 , 0.99916577, 0.99916331, 0.99916116,\n",
       "       0.99915928, 0.99915765, 0.99915623, 0.99915499, 0.99915391,\n",
       "       0.99915298, 0.99915216, 0.99915145, 0.99915084, 0.99915031,\n",
       "       0.99914985, 0.99914946, 0.99914912, 0.99914883, 0.99914859,\n",
       "       0.99914838, 0.99914821, 0.99914807, 0.99914796, 0.99914786,\n",
       "       0.99914779, 0.99914774, 0.9991477 , 0.99914768, 0.99914766,\n",
       "       0.99914766, 0.99914767, 0.99914769, 0.99914772, 0.99914775,\n",
       "       0.99914778])"
      ]
     },
     "execution_count": 7,
     "metadata": {},
     "output_type": "execute_result"
    }
   ],
   "source": [
    "G.tout_stat('spin_polarization')"
   ]
  },
  {
   "cell_type": "code",
   "execution_count": 8,
   "id": "f0f3db94-5347-4c20-ad93-1c175982baa9",
   "metadata": {},
   "outputs": [],
   "source": [
    "import os \n",
    "\n",
    "os.remove('gptspin.in')"
   ]
  },
  {
   "cell_type": "code",
   "execution_count": null,
   "id": "78d8163b-bbea-418a-a509-382695e39650",
   "metadata": {},
   "outputs": [],
   "source": []
  }
 ],
 "metadata": {
  "kernelspec": {
   "display_name": "Python 3 (ipykernel)",
   "language": "python",
   "name": "python3"
  },
  "language_info": {
   "codemirror_mode": {
    "name": "ipython",
    "version": 3
   },
   "file_extension": ".py",
   "mimetype": "text/x-python",
   "name": "python",
   "nbconvert_exporter": "python",
   "pygments_lexer": "ipython3",
   "version": "3.12.4"
  }
 },
 "nbformat": 4,
 "nbformat_minor": 5
}
