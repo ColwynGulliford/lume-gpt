{
 "cells": [
  {
   "cell_type": "code",
   "execution_count": 1,
   "metadata": {},
   "outputs": [],
   "source": [
    "# Useful for debugging\n",
    "%load_ext autoreload\n",
    "%autoreload 2\n",
    "%matplotlib inline\n",
    "%config InlineBackend.figure_format = 'retina'\n",
    "\n",
    "import numpy as np\n",
    "from matplotlib import pyplot as plt"
   ]
  },
  {
   "cell_type": "markdown",
   "metadata": {},
   "source": [
    "# Map1D_TM\n",
    "---"
   ]
  },
  {
   "cell_type": "code",
   "execution_count": 2,
   "metadata": {},
   "outputs": [
    {
     "data": {
      "text/plain": [
       "\u001b[0;31mType:\u001b[0m        Map1D_TM\n",
       "\u001b[0;31mString form:\u001b[0m\n",
       "Name: Buncher\n",
       "Type: Map1D_TM\n",
       "s-entrance: 0 m.\n",
       "s-exit: 0.2 m.\n",
       "Length: 0.2\n",
       "Width: 0.2 m.\n",
       "\u001b[0;31mFile:\u001b[0m        ~/GitHub/lume-gpt/gpt/maps.py\n",
       "\u001b[0;31mDocstring:\u001b[0m   Defines a 1D [z, Ez] cylindrically symmetric TM cavity field map object"
      ]
     },
     "metadata": {},
     "output_type": "display_data"
    }
   ],
   "source": [
    "from gpt.maps import Map1D_TM\n",
    "cav = Map1D_TM('Buncher', 'fields/buncher_CTB_1D.gdf', frequency=1.3e9, scale=10e6, relative_phase=0)\n",
    "?cav"
   ]
  },
  {
   "cell_type": "markdown",
   "metadata": {},
   "source": [
    "# Basic Tracking routines\n",
    "Checkingthe basic routines useful for working with a Map1D_TM object: `track_on_axis` and `auto_phase`.\n",
    "\n",
    "First run the `track_on_axis`"
   ]
  },
  {
   "cell_type": "code",
   "execution_count": 3,
   "metadata": {},
   "outputs": [],
   "source": [
    "#G = cav.track_on_axis(t=0, p=1e6, n_screen=100)\n",
    "\n",
    "#fig, ax = plt.subplots(1, 3, sharex='col', constrained_layout=True, figsize=(12,4))\n",
    "#ax[0].plot(cav.z0, cav.Ez0);\n",
    "#ax[0].set_xlabel('$\\Delta z$ (m)');\n",
    "#ax[0].set_ylabel('Ez(z) (V/m)');\n",
    "#ax[0].set_title('CBC Field Profile');\n",
    "\n",
    "#cav.plot_floor(ax=ax[1])\n",
    "#ax[1].plot(G.stat('mean_z','screen'), G.stat('mean_x', 'screen'));\n",
    "#ax[1].plot(G.stat('mean_z','screen')[0], G.stat('mean_x', 'screen')[0],'og');\n",
    "#ax[1].plot(G.stat('mean_z','screen')[-1], G.stat('mean_x', 'screen')[-1],'or');\n",
    "#ax[1].set_title('Single Particle Tracking')\n",
    "\n",
    "#ax[2].plot(G.stat('mean_z','screen'), G.stat('mean_energy', 'screen')/1e6);\n",
    "#ax[2].set_xlabel('z (m)');\n",
    "#ax[2].set_ylabel('E (MeV)');\n",
    "#ax[2].set_title('Single Particle Tracking: Energy Gain');"
   ]
  },
  {
   "cell_type": "markdown",
   "metadata": {},
   "source": [
    "# Autophasing (Not fully implemented per element)"
   ]
  },
  {
   "cell_type": "code",
   "execution_count": 4,
   "metadata": {},
   "outputs": [],
   "source": [
    "#p=10e6\n",
    "#cav.relative_phase=-90\n",
    "\n",
    "#%time G=cav.autophase(t=0, p=p)\n",
    "\n",
    "#plt.plot(G.stat('mean_z','screen'), (G.stat('mean_energy', 'screen')-G.screen[0]['mean_energy'])/1e6);\n",
    "#plt.xlabel('z (m)');\n",
    "#plt.ylabel('$\\Delta E$ (MeV)');"
   ]
  },
  {
   "cell_type": "markdown",
   "metadata": {},
   "source": [
    "# Test Placement in a Lattice"
   ]
  },
  {
   "cell_type": "code",
   "execution_count": 5,
   "metadata": {},
   "outputs": [],
   "source": [
    "from gpt.lattice import Lattice"
   ]
  },
  {
   "cell_type": "code",
   "execution_count": 6,
   "metadata": {},
   "outputs": [],
   "source": [
    "lat = Lattice('cavity')\n",
    "lat.add(Map1D_TM('Buncher', 'fields/buncher_CTB_1D.gdf', frequency=1.3e9, scale=10e6, relative_phase=0), ds=1.0)"
   ]
  },
  {
   "cell_type": "code",
   "execution_count": 7,
   "metadata": {},
   "outputs": [],
   "source": [
    "#G = lat['Buncher'].track_on_axis(t=0, p=10e6, n_screen=100)\n",
    "\n",
    "#fig, ax = plt.subplots(1, 3, sharex='col', constrained_layout=True, figsize=(12,4))\n",
    "#ax[0].plot(cav.z0, cav.Ez0);\n",
    "#ax[0].set_xlabel('$\\Delta z$ (m)');\n",
    "#ax[0].set_ylabel('Ez(z) (V/m)');\n",
    "#ax[0].set_title('CBC Field Profile');\n",
    "\n",
    "#lat['Buncher'].plot_floor(ax=ax[1])\n",
    "#ax[1].plot(G.stat('mean_z','screen'), G.stat('mean_x', 'screen'));\n",
    "#ax[1].plot(G.stat('mean_z','screen')[0], G.stat('mean_x', 'screen')[0],'og');\n",
    "#ax[1].plot(G.stat('mean_z','screen')[-1], G.stat('mean_x', 'screen')[-1],'or');\n",
    "#ax[1].set_title('Single Particle Tracking')\n",
    "\n",
    "#ax[2].plot(G.stat('mean_z','screen'), G.stat('mean_energy', 'screen')/1e6)\n",
    "#ax[2].set_xlabel('z (m)');\n",
    "#ax[2].set_ylabel('E (MeV)');\n",
    "#ax[2].set_title('Single Particle Tracking: Energy Gain');"
   ]
  },
  {
   "cell_type": "code",
   "execution_count": 8,
   "metadata": {},
   "outputs": [],
   "source": [
    "#lat['Buncher'].relative_phase=-90\n",
    "#G = lat['Buncher'].autophase(t=0, p=10e6)\n",
    "#plt.plot(G.stat('mean_z','screen'), (G.stat('mean_energy', 'screen')-G.screen[0]['mean_energy'])/1e6);\n",
    "#plt.xlabel('z (m)');\n",
    "#plt.ylabel('$\\Delta E$ (MeV)');"
   ]
  },
  {
   "cell_type": "code",
   "execution_count": 9,
   "metadata": {},
   "outputs": [
    {
     "name": "stdout",
     "output_type": "stream",
     "text": [
      "Buncher_x = 0.0;\n",
      "Buncher_y = 0.0;\n",
      "Buncher_z = 0.1;\n",
      "Buncher_scale = 10000000.0;\n",
      "Buncher_oncrest_phase = 0;\n",
      "Buncher_relative_phase = 0;\n",
      "Buncher_phase = (Buncher_oncrest_phase + Buncher_relative_phase)*pi/180;\n",
      "Buncher_frequency = 1300000000.0;\n",
      "Buncher_gamma = 1;\n",
      "Map1D_TM(\"wcs\", Buncher_x, Buncher_y, Buncher_z, 1, 0, 0, 0, 1, 0, \"/Users/colwyngulliford/GitHub/lume-gpt/examples/elements/fields/buncher_CTB_1D.gdf\", \"Z\", \"Ez\", Buncher_scale, Buncher_phase, 2*pi*Buncher_frequency);\n"
     ]
    }
   ],
   "source": [
    "for line in cav.gpt_lines():\n",
    "    print(line)"
   ]
  },
  {
   "cell_type": "markdown",
   "metadata": {},
   "source": [
    "# Example Field Maps:\n",
    "---\n",
    "\n"
   ]
  },
  {
   "cell_type": "code",
   "execution_count": 10,
   "metadata": {},
   "outputs": [],
   "source": [
    "cav = Map1D_TM('CU_ICM', 'fields/icm_1d.gdf', frequency=1.3e9, scale=1, relative_phase=-90)\n",
    "cav.relative_phase=+180"
   ]
  },
  {
   "cell_type": "code",
   "execution_count": 11,
   "metadata": {},
   "outputs": [],
   "source": [
    "#%time G=cav.autophase(t=0, p=1e6)"
   ]
  },
  {
   "cell_type": "code",
   "execution_count": 12,
   "metadata": {},
   "outputs": [],
   "source": [
    "#G = cav.track_on_axis(t=0, p=10e6, n_screen=100, workdir='temp')\n",
    "\n",
    "#fig, ax = plt.subplots(1, 3, sharex='col', constrained_layout=True, figsize=(12,4))\n",
    "#ax[0].plot(cav.z0, cav.Ez0);\n",
    "#ax[0].set_xlabel('$\\Delta z$ (m)');\n",
    "#ax[0].set_ylabel('Ez(z) (V/m)');\n",
    "#ax[0].set_title('CBC Field Profile');\n",
    "\n",
    "#cav.plot_floor(ax=ax[1])\n",
    "#ax[1].plot(G.stat('mean_z','screen'), G.stat('mean_x', 'screen'));\n",
    "#ax[1].plot(G.stat('mean_z','screen')[0], G.stat('mean_x', 'screen')[0],'og');\n",
    "#ax[1].plot(G.stat('mean_z','screen')[-1], G.stat('mean_x', 'screen')[-1],'or');\n",
    "#ax[1].set_title('Single Particle Tracking')\n",
    "\n",
    "#ax[2].plot(G.stat('mean_z','screen'), G.stat('mean_energy', 'screen')/1e6)\n",
    "#ax[2].set_xlabel('z (m)');\n",
    "#ax[2].set_ylabel('E (MeV)');\n",
    "#ax[2].set_title('Single Particle Tracking: Energy Gain');"
   ]
  },
  {
   "cell_type": "code",
   "execution_count": null,
   "metadata": {},
   "outputs": [],
   "source": []
  }
 ],
 "metadata": {
  "kernelspec": {
   "display_name": "Python 3 (ipykernel)",
   "language": "python",
   "name": "python3"
  },
  "language_info": {
   "codemirror_mode": {
    "name": "ipython",
    "version": 3
   },
   "file_extension": ".py",
   "mimetype": "text/x-python",
   "name": "python",
   "nbconvert_exporter": "python",
   "pygments_lexer": "ipython3",
   "version": "3.12.4"
  }
 },
 "nbformat": 4,
 "nbformat_minor": 4
}
