{
 "cells": [
  {
   "cell_type": "markdown",
   "id": "2c106b2d-6f7d-4b39-ab53-16bb5b9b3e34",
   "metadata": {},
   "source": [
    "# E-static Rectangular Element\n",
    "---"
   ]
  },
  {
   "cell_type": "code",
   "execution_count": 1,
   "id": "9b47ff99-5445-4506-94e0-84273186c8fa",
   "metadata": {},
   "outputs": [],
   "source": [
    "# Useful for debugging\n",
    "%load_ext autoreload\n",
    "%autoreload 2\n",
    "\n",
    "%config InlineBackend.figure_format = 'retina'"
   ]
  },
  {
   "cell_type": "code",
   "execution_count": 2,
   "id": "f5b4108a-8521-4382-b374-bdf5a5a576b6",
   "metadata": {},
   "outputs": [],
   "source": [
    "from gpt.estatic import Erect\n",
    "from gpt.lattice import Lattice\n",
    "\n",
    "from gpt import GPT\n",
    "\n",
    "from pmd_beamphysics import single_particle"
   ]
  },
  {
   "cell_type": "code",
   "execution_count": 3,
   "id": "60d30989-9b14-467a-baf7-d958b348794b",
   "metadata": {},
   "outputs": [
    {
     "name": "stdout",
     "output_type": "stream",
     "text": [
      "1000000.0 erect\n",
      "werd ER\n"
     ]
    },
    {
     "data": {
      "text/plain": [
       "1000000.0"
      ]
     },
     "execution_count": 3,
     "metadata": {},
     "output_type": "execute_result"
    }
   ],
   "source": [
    "a=0.1\n",
    "b=0.2\n",
    "L=0.5\n",
    "E0=1e6\n",
    "\n",
    "E = Erect('ER', a, b, L, E0)\n",
    "E.place()\n",
    "E._E0"
   ]
  },
  {
   "cell_type": "code",
   "execution_count": 4,
   "id": "95ba3afa-c065-4126-84e7-6f498bbfd9b2",
   "metadata": {},
   "outputs": [
    {
     "data": {
      "text/plain": [
       "['\\n#***********************************************',\n",
       " '#             Erect: ER           ',\n",
       " '#***********************************************',\n",
       " 'ER_a = 0.1;',\n",
       " 'ER_b = 0.2;',\n",
       " 'ER_L = 0.5;',\n",
       " 'ER_E = 1000000.0;',\n",
       " '\\nerect(\"wcs\", \"LxyzXYZ\", 0, 0, 0.25, 0, 0, 0,  ER_a, ER_b, ER_L, ER_E);']"
      ]
     },
     "execution_count": 4,
     "metadata": {},
     "output_type": "execute_result"
    }
   ],
   "source": [
    "E.gpt_lines()"
   ]
  },
  {
   "cell_type": "code",
   "execution_count": 5,
   "id": "24b3d810-0940-4231-bacf-48f30d2b320b",
   "metadata": {},
   "outputs": [
    {
     "name": "stdout",
     "output_type": "stream",
     "text": [
      "1000000.0 erect\n",
      "werd ER\n"
     ]
    }
   ],
   "source": [
    "lat = Lattice('etest')\n",
    "\n",
    "\n",
    "lat.add(Erect('ER', a, b, L, E0, global_element=True), ds=1.0, element_origin='beg')\n",
    "\n",
    "#lat.plot_floor()\n",
    "\n"
   ]
  },
  {
   "cell_type": "code",
   "execution_count": 6,
   "id": "8e33efbd-727c-432c-8043-b67cc884e179",
   "metadata": {},
   "outputs": [
    {
     "data": {
      "text/plain": [
       "1000000.0"
      ]
     },
     "execution_count": 6,
     "metadata": {},
     "output_type": "execute_result"
    }
   ],
   "source": [
    "x = lat['ER']\n",
    "x._E0"
   ]
  },
  {
   "cell_type": "code",
   "execution_count": 7,
   "id": "f3a10849-5934-4fcd-85db-e20ae82b8081",
   "metadata": {},
   "outputs": [
    {
     "name": "stdout",
     "output_type": "stream",
     "text": [
      "not a bend\n",
      "no source data\n",
      "not a bend\n",
      "no source data\n"
     ]
    },
    {
     "data": {
      "text/plain": [
       "['\\n',\n",
       " 'setfile(\"beam\", \"gpt_particles.gdf\");\\n',\n",
       " 'time=0.0;\\n',\n",
       " '\\n',\n",
       " 'auto_phase=0.0;\\n',\n",
       " 'space_charge=0.0;\\n',\n",
       " 'cathode=0.0;\\n',\n",
       " 'space_charge_type=1.0;\\n',\n",
       " 'RadiusMax=0.04;\\n',\n",
       " 'GBacc=5.5;\\n',\n",
       " 'xacc=6.5;\\n',\n",
       " 'accuracy(GBacc, xacc);\\n',\n",
       " 'dtmin=1e-16;\\n',\n",
       " 'dtmax=1e-10;\\n',\n",
       " ' \\n',\n",
       " 'Alpha=1.0;\\n',\n",
       " 'Fn=0.5;\\n',\n",
       " 'verror=0.005;\\n',\n",
       " 'Nstd=5.0;\\n',\n",
       " 'tree_code_theta=1.0;\\n',\n",
       " 'tree_code_R=1e-06;\\n',\n",
       " 'if (space_charge == 1) {\\n',\n",
       " '\\n',\n",
       " '    if (space_charge_type == 1) {\\n',\n",
       " '        if(cathode == 1) {\\n',\n",
       " '            spacecharge3Dmesh(\"Cathode\", \"MeshNfac\", Alpha, \"MeshAdapt\", Fn, \"SolverAcc\", verror, \"MeshBoxSize\", Nstd);\\n',\n",
       " '        } else {\\n',\n",
       " '            spacecharge3Dmesh(\"MeshNfac\", Alpha, \"MeshAdapt\", Fn, \"SolverAcc\", verror, \"MeshBoxSize\", Nstd);\\n',\n",
       " '        }\\n',\n",
       " '    }\\n',\n",
       " '    if (space_charge_type == 2) {\\n',\n",
       " '        setrmacrodist(\"beam\",\"u\",tree_code_R,0) ;\\n',\n",
       " '        spacecharge3Dtree(tree_code_theta) ;   }\\n',\n",
       " '        \\n',\n",
       " '    #if (space_charge_type == 3) {\\n',\n",
       " '    #    spacechargeP2Pgpu(\"3D\", \"SinglePrecision\");\\n',\n",
       " '    #    }\\n',\n",
       " '}\\n',\n",
       " 'Ntout=50.0;\\n',\n",
       " 'tmax=10e-9;\\n',\n",
       " 'ZSTART=-0.005;\\n',\n",
       " 'ZSTOP=3;\\n',\n",
       " 'zminmax(\"wcs\", \"I\", ZSTART, ZSTOP);\\n',\n",
       " '\\n',\n",
       " 'if(Ntout>0) {\\n',\n",
       " '    tout(time, tmax, tmax/Ntout);\\n',\n",
       " '}\\n',\n",
       " '\\n',\n",
       " '\\n# beg\\n',\n",
       " '\\n# ER\\n',\n",
       " '\\n#***********************************************\\n',\n",
       " '#             Erect: ER           \\n',\n",
       " '#***********************************************\\n',\n",
       " 'ER_a = 0.1;\\n',\n",
       " 'ER_b = 0.2;\\n',\n",
       " 'ER_L = 0.5;\\n',\n",
       " 'ER_E = 1000000.0;\\n',\n",
       " '\\nerect(\"wcs\", \"GxyzXYZ\", 0, 0, 1.25, 0, 0, 0,  ER_a, ER_b, ER_L, ER_E);\\n']"
      ]
     },
     "execution_count": 7,
     "metadata": {},
     "output_type": "execute_result"
    }
   ],
   "source": [
    "lat.write_gpt_lines(output_file='gpt.temp.in')"
   ]
  },
  {
   "cell_type": "code",
   "execution_count": 8,
   "id": "db1ecb2e-1ba1-48db-8800-6ffd335c304b",
   "metadata": {},
   "outputs": [],
   "source": [
    "G = GPT('gpt.temp.in', initial_particles=single_particle(pz=10e6))\n",
    "G.run()"
   ]
  },
  {
   "cell_type": "code",
   "execution_count": 9,
   "id": "d80ca480-2146-40b5-940c-d637fa2085f8",
   "metadata": {},
   "outputs": [
    {
     "name": "stdout",
     "output_type": "stream",
     "text": [
      "\n",
      "GPT object:\n",
      "   Original input file: gpt.temp.in\n",
      "   Template location: /Users/colwyngulliford/GitHub/lume-gpt/examples/elements\n",
      "   Use temp directory: True\n",
      "\n",
      "Run Control\n",
      "   Run configured: True\n",
      "   Work location: /var/folders/jf/c053b9m10035hkwq4wd3bzhr0000gn/T/tmpw0v4qas7\n",
      "   Timeout: None (sec)\n",
      "\n",
      "Results\n",
      "   Finished: True\n",
      "   Error occured: False\n",
      "   Run time: 0.022209882736206055 (sec)\n"
     ]
    }
   ],
   "source": [
    "print(G)"
   ]
  },
  {
   "cell_type": "code",
   "execution_count": 10,
   "id": "17f50432-f3b2-4b7b-b182-88399fcb5110",
   "metadata": {},
   "outputs": [],
   "source": [
    "from matplotlib import pyplot as plt"
   ]
  },
  {
   "cell_type": "code",
   "execution_count": 11,
   "id": "dbf83901-e9be-42cb-97d8-94a8112889b2",
   "metadata": {},
   "outputs": [
    {
     "data": {
      "text/plain": [
       "[<matplotlib.lines.Line2D at 0x164bf4ef0>]"
      ]
     },
     "execution_count": 11,
     "metadata": {},
     "output_type": "execute_result"
    },
    {
     "data": {
      "image/png": "[encoded data removed]",
      "text/plain": [
       "<Figure size 640x480 with 1 Axes>"
      ]
     },
     "metadata": {
      "image/png": {
       "height": 413,
       "width": 568
      }
     },
     "output_type": "display_data"
    }
   ],
   "source": [
    "plt.plot(G.tout_stat('mean_z'), G.tout_stat('mean_x'))"
   ]
  },
  {
   "cell_type": "code",
   "execution_count": 12,
   "id": "f90e3911-6a81-4ae3-a700-e5a401282011",
   "metadata": {},
   "outputs": [],
   "source": [
    "#G.tout_stat('mean_x')"
   ]
  },
  {
   "cell_type": "code",
   "execution_count": null,
   "id": "edb793ea-aff7-4213-ba26-321bd7e63128",
   "metadata": {},
   "outputs": [],
   "source": []
  },
  {
   "cell_type": "code",
   "execution_count": null,
   "id": "8485ff57-ad91-4bfa-a72e-963930d7215e",
   "metadata": {},
   "outputs": [],
   "source": []
  }
 ],
 "metadata": {
  "kernelspec": {
   "display_name": "Python 3 (ipykernel)",
   "language": "python",
   "name": "python3"
  },
  "language_info": {
   "codemirror_mode": {
    "name": "ipython",
    "version": 3
   },
   "file_extension": ".py",
   "mimetype": "text/x-python",
   "name": "python",
   "nbconvert_exporter": "python",
   "pygments_lexer": "ipython3",
   "version": "3.12.1"
  }
 },
 "nbformat": 4,
 "nbformat_minor": 5
}
