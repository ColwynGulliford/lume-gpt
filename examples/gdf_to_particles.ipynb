{
 "cells": [
  {
   "cell_type": "code",
   "execution_count": 1,
   "id": "2c713d05-a83a-4b53-9063-8ce474e9747e",
   "metadata": {},
   "outputs": [],
   "source": [
    "%config InlineBackend.figure_format = 'retina'"
   ]
  },
  {
   "cell_type": "markdown",
   "id": "e7c88a5c-1242-4a97-a2ae-d5541da6062e",
   "metadata": {},
   "source": [
    "# GDF data -> ParticleGroup objects\n",
    "---\n",
    "This notebook shows how to `gpt.particles.gdf_to_particle_groups` to read a GDF file, save the particle data in ParticleGroup objects, and save the total electric and magnetic fields at the particle coordinates.\n",
    "\n",
    "First, create some GPT data stored in a GDF file"
   ]
  },
  {
   "cell_type": "code",
   "execution_count": 2,
   "id": "a12248f9-fece-47c2-a0f5-612164c220da",
   "metadata": {},
   "outputs": [],
   "source": [
    "import os\n",
    "from gpt import GPT"
   ]
  },
  {
   "cell_type": "code",
   "execution_count": 3,
   "id": "9e0ff14d-4d8c-4b68-85ff-439f1223372f",
   "metadata": {},
   "outputs": [
    {
     "name": "stdout",
     "output_type": "stream",
     "text": [
      "GPT.configure_gpt:\n",
      "   Original input file \"gpt.in\" in \"/Users/colwyngulliford/GitHub/lume-gpt/examples/templates/dcgun\"\n",
      "   Configured to run in \"/var/folders/w8/8n1md1352pzd3nqp0lhc5jy00000gn/T/tmphl0ntvka\"\n"
     ]
    }
   ],
   "source": [
    "G = GPT(input_file='templates/dcgun/gpt.in', verbose=True)"
   ]
  },
  {
   "cell_type": "code",
   "execution_count": 4,
   "id": "c2601f47-802c-43b3-bf2a-2df77ac87b23",
   "metadata": {},
   "outputs": [
    {
     "name": "stdout",
     "output_type": "stream",
     "text": [
      "GPT.run_gpt:\n",
      "   Running GPT...\n",
      "   Writing gpt input file to \"/var/folders/w8/8n1md1352pzd3nqp0lhc5jy00000gn/T/tmphl0ntvka/gpt.in\"\n",
      "   Running with timeout = None sec.\n",
      "   Loading GPT data from /var/folders/w8/8n1md1352pzd3nqp0lhc5jy00000gn/T/tmphl0ntvka/gpt.out.gdf\n",
      "   GDF data loaded, time ellapsed: 0.0191789 (sec).\n",
      "   Converting tout and screen data to ParticleGroup(s)\n",
      "   Run finished, total time ellapsed: 0.751114 (sec)\n"
     ]
    }
   ],
   "source": [
    "G.set_variables({'gun_voltage':375,'sol_1_current':-3, 'Ntout':100})\n",
    "G.run()"
   ]
  },
  {
   "cell_type": "code",
   "execution_count": 5,
   "id": "af4de2aa-be7c-4fa6-b64f-0072600c9bba",
   "metadata": {},
   "outputs": [
    {
     "data": {
      "text/plain": [
       "True"
      ]
     },
     "execution_count": 5,
     "metadata": {},
     "output_type": "execute_result"
    }
   ],
   "source": [
    "os.path.exists(G.path)"
   ]
  },
  {
   "cell_type": "code",
   "execution_count": 6,
   "id": "d880f29d-68fb-4d24-bc60-0f4321dd23b4",
   "metadata": {},
   "outputs": [],
   "source": [
    "from gpt.particles import gdf_to_particle_groups"
   ]
  },
  {
   "cell_type": "code",
   "execution_count": 7,
   "id": "a7147869-35bb-429d-a4aa-6a62f797df14",
   "metadata": {},
   "outputs": [],
   "source": [
    "gdf_file = os.path.join(G.path, 'gpt.out.gdf')\n",
    "#gdf_file = 'gpt.out.gdf'"
   ]
  },
  {
   "cell_type": "markdown",
   "id": "d4f8429d-3448-47e5-af84-c30d91144efb",
   "metadata": {},
   "source": [
    "Now, load the data, including the field datas"
   ]
  },
  {
   "cell_type": "code",
   "execution_count": 8,
   "id": "e625f489-6807-4fc4-bff0-38639f134976",
   "metadata": {},
   "outputs": [],
   "source": [
    "touts, screens  = gdf_to_particle_groups(gdf_file, load_fields=True)"
   ]
  },
  {
   "cell_type": "code",
   "execution_count": 9,
   "id": "2ff5bcc2-d72f-4b5f-9fad-a334292ff86f",
   "metadata": {},
   "outputs": [
    {
     "data": {
      "text/plain": [
       "<ParticleGroup with 100 particles at 0x13b2e2f30>"
      ]
     },
     "execution_count": 9,
     "metadata": {},
     "output_type": "execute_result"
    }
   ],
   "source": [
    "touts[0]"
   ]
  },
  {
   "cell_type": "code",
   "execution_count": 10,
   "id": "a736737c-788f-4f39-886f-0bd037f205fe",
   "metadata": {},
   "outputs": [
    {
     "data": {
      "text/plain": [
       "<ParticleGroup with 200 particles at 0x13b3445f0>"
      ]
     },
     "execution_count": 10,
     "metadata": {},
     "output_type": "execute_result"
    }
   ],
   "source": [
    "screens[0]"
   ]
  },
  {
   "cell_type": "code",
   "execution_count": 11,
   "id": "baabd3fc-4665-41a3-9b0b-3257d7287eb8",
   "metadata": {},
   "outputs": [],
   "source": [
    "#fields[0]"
   ]
  },
  {
   "cell_type": "code",
   "execution_count": 12,
   "id": "516eb9a2-23d3-4ab6-91ce-243d0d9474c0",
   "metadata": {},
   "outputs": [],
   "source": [
    "#spins[0]"
   ]
  },
  {
   "cell_type": "code",
   "execution_count": null,
   "id": "b6819a41-9e3e-4623-b1fe-fab4dca538e6",
   "metadata": {},
   "outputs": [],
   "source": []
  }
 ],
 "metadata": {
  "kernelspec": {
   "display_name": "Python 3 (ipykernel)",
   "language": "python",
   "name": "python3"
  },
  "language_info": {
   "codemirror_mode": {
    "name": "ipython",
    "version": 3
   },
   "file_extension": ".py",
   "mimetype": "text/x-python",
   "name": "python",
   "nbconvert_exporter": "python",
   "pygments_lexer": "ipython3",
   "version": "3.12.4"
  }
 },
 "nbformat": 4,
 "nbformat_minor": 5
}
