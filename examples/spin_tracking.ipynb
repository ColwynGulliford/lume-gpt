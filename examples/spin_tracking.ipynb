{
 "cells": [
  {
   "cell_type": "code",
   "execution_count": 1,
   "id": "16bed1e5-b96c-4c00-910a-5efc5cfc201a",
   "metadata": {},
   "outputs": [],
   "source": [
    "from distgen import Generator\n",
    "from gpt import GPT\n",
    "\n",
    "%load_ext autoreload\n",
    "%autoreload 2\n",
    "%config InlineBackend.figure_format = 'retina'"
   ]
  },
  {
   "cell_type": "code",
   "execution_count": 2,
   "id": "e98aae23-4ec1-44bb-9bfb-5b5e661fa548",
   "metadata": {},
   "outputs": [],
   "source": [
    "YAML=\"\"\"\n",
    "n_particle: 200000\n",
    "output:\n",
    "  type: null\n",
    "px_dist:\n",
    "  sigma_px: 0.1 keV/c\n",
    "  type: gaussian\n",
    "py_dist:\n",
    "  sigma_py: 0.1 keV/c\n",
    "  type: gaussian\n",
    "pz_dist:\n",
    "  avg_pz: 15 keV/c\n",
    "  sigma_pz: 0.1 keV/c\n",
    "  type: gaussian\n",
    "r_dist:\n",
    "  sigma_xy:\n",
    "    units: millimeter\n",
    "    value: 1.0\n",
    "  type: radial_gaussian\n",
    "random:\n",
    "  type: hammersley\n",
    "species: electron\n",
    "spin_polarization: 0.35\n",
    "start:\n",
    "  tstart:\n",
    "    units: second\n",
    "    value: 0\n",
    "  type: time\n",
    "total_charge:\n",
    "  units: picocoulomb\n",
    "  value: 10\n",
    "transforms: null\n",
    "z_dist:\n",
    "  avg_z:\n",
    "    units: millimeter\n",
    "    value: 0.0\n",
    "  sigma_z:\n",
    "    units: millimeter\n",
    "    value: 2.0\n",
    "  type: gaussian\n",
    "\"\"\""
   ]
  },
  {
   "cell_type": "code",
   "execution_count": 3,
   "id": "c4a3c87f-7b3c-433b-9d6a-35e8b335b157",
   "metadata": {},
   "outputs": [],
   "source": [
    "D = Generator(YAML)"
   ]
  },
  {
   "cell_type": "code",
   "execution_count": 4,
   "id": "c602b335-3d6e-4add-a681-30f74b3470e7",
   "metadata": {},
   "outputs": [],
   "source": [
    "D['n_particle']=1_000"
   ]
  },
  {
   "cell_type": "code",
   "execution_count": 5,
   "id": "423c882d-dd34-4398-87dc-ed9481758af2",
   "metadata": {},
   "outputs": [],
   "source": [
    "B = D.beam()"
   ]
  },
  {
   "cell_type": "code",
   "execution_count": 6,
   "id": "a39ffd44-2b6a-4cbf-b945-0f600d8e08f4",
   "metadata": {},
   "outputs": [],
   "source": [
    "from distgen.writers import write_gpt"
   ]
  },
  {
   "cell_type": "code",
   "execution_count": 7,
   "id": "ea1ccc8e-c00a-4907-aba3-c87db008439e",
   "metadata": {},
   "outputs": [
    {
     "name": "stdout",
     "output_type": "stream",
     "text": [
      "Printing 1000 particles to \"gpt_particles.gdf\":    Converting file to GDF: done. Time ellapsed: 11.9321 ms.\n",
      "...done. Time ellapsed: 20.5419 ms.\n"
     ]
    }
   ],
   "source": [
    "write_gpt(B, 'gpt_particles.gdf', verbose=1, asci2gdf_bin='$ASCI2GDF_BIN')"
   ]
  },
  {
   "cell_type": "code",
   "execution_count": 8,
   "id": "9b82dcf3-d6ff-4fbb-ae2a-b4efcd25570e",
   "metadata": {},
   "outputs": [],
   "source": [
    "from gpt.template import BASIC_TEMPLATE\n",
    "\n",
    "#BASIC_TEMPLATE"
   ]
  },
  {
   "cell_type": "code",
   "execution_count": 9,
   "id": "845c9d53-05d5-4ce6-9272-bccb485173c4",
   "metadata": {},
   "outputs": [],
   "source": [
    "with open('gpt.in', 'w') as fid:\n",
    "    fid.write('\\n'.join(BASIC_TEMPLATE))"
   ]
  },
  {
   "cell_type": "code",
   "execution_count": 10,
   "id": "2e07d5f0-d600-4852-9bbb-a356e5cebec6",
   "metadata": {},
   "outputs": [
    {
     "name": "stdout",
     "output_type": "stream",
     "text": [
      "GPT.configure_gpt:\n",
      "   Original input file \"gpt.in\" in \"/Users/colwyngulliford/GitHub/lume-gpt/examples\"\n",
      "   Configured to run in \"/var/folders/w8/8n1md1352pzd3nqp0lhc5jy00000gn/T/tmp9d61ynln\"\n",
      "GPT.run_gpt:\n",
      "   Running GPT...\n",
      "   Writing gpt input file to \"/var/folders/w8/8n1md1352pzd3nqp0lhc5jy00000gn/T/tmp9d61ynln/gpt.in\"\n",
      "   Running with timeout = None sec.\n",
      "   Loading GPT data from /var/folders/w8/8n1md1352pzd3nqp0lhc5jy00000gn/T/tmp9d61ynln/gpt.out.gdf\n",
      "   GDF data loaded, time ellapsed: 0.0215669 (sec).\n",
      "   Converting tout and screen data to ParticleGroup(s)\n",
      "   Run finished, total time ellapsed: 0.133416 (sec)\n"
     ]
    }
   ],
   "source": [
    "G = GPT('gpt.in', spin_tracking=True, verbose=True)\n",
    "G.set_variables({'Ntout': 100, 'tmax': 5e-8, 'ZSTOP':1.0})\n",
    "G.run()"
   ]
  },
  {
   "cell_type": "code",
   "execution_count": 11,
   "id": "89c3e401-4afa-4f93-8d78-2e80137b5ffd",
   "metadata": {},
   "outputs": [
    {
     "data": {
      "text/plain": [
       "(0, 100)"
      ]
     },
     "execution_count": 11,
     "metadata": {},
     "output_type": "execute_result"
    }
   ],
   "source": [
    "G.n_screen, G.n_tout"
   ]
  },
  {
   "cell_type": "code",
   "execution_count": 12,
   "id": "c3aa9809-bc48-44d4-aa3a-bfaa79543c98",
   "metadata": {},
   "outputs": [
    {
     "data": {
      "text/plain": [
       "np.float64(0.2020725942163691)"
      ]
     },
     "execution_count": 12,
     "metadata": {},
     "output_type": "execute_result"
    }
   ],
   "source": [
    "G.tout_spin[0]['sz'].mean()"
   ]
  },
  {
   "cell_type": "code",
   "execution_count": 13,
   "id": "57ecb1b5-9500-48e0-93c3-8c379285c730",
   "metadata": {},
   "outputs": [
    {
     "data": {
      "text/plain": [
       "array([0.20207259, 0.20137419, 0.20137419, 0.20137419, 0.20137419,\n",
       "       0.20137419, 0.20137419, 0.20137419, 0.20137419, 0.20137419,\n",
       "       0.20137419, 0.20137419, 0.20137419, 0.20137419, 0.20137419,\n",
       "       0.20137419, 0.20137419, 0.20137419, 0.20137419, 0.20137419,\n",
       "       0.20137419, 0.20137419, 0.20137419, 0.20137419, 0.20137419,\n",
       "       0.20137419, 0.20137419, 0.20137419, 0.20137419, 0.20137419,\n",
       "       0.20137419, 0.20137419, 0.20137419, 0.20137419, 0.20137419,\n",
       "       0.20137419, 0.20137419, 0.20137419, 0.20137419, 0.20137419,\n",
       "       0.20137419, 0.20137419, 0.20137419, 0.20137419, 0.20137419,\n",
       "       0.20137419, 0.20137419, 0.20137419, 0.20137419, 0.20137419,\n",
       "       0.20137419, 0.20137419, 0.20137419, 0.20137419, 0.20137419,\n",
       "       0.20137419, 0.20137419, 0.20137419, 0.20137419, 0.20137419,\n",
       "       0.20137419, 0.20137419, 0.20137419, 0.20137419, 0.20137419,\n",
       "       0.20137419, 0.20137419, 0.20137419, 0.20137419, 0.20137419,\n",
       "       0.20137419, 0.20137419, 0.20137419, 0.20137419, 0.20137419,\n",
       "       0.20137419, 0.20137419, 0.20137419, 0.20137419, 0.20137419,\n",
       "       0.20137419, 0.20137419, 0.20137419, 0.20137419, 0.20137419,\n",
       "       0.20137419, 0.20137419, 0.20137419, 0.20137419, 0.20137419,\n",
       "       0.20137419, 0.20137419, 0.20137419, 0.20137419, 0.20137419,\n",
       "       0.20137419, 0.20137419, 0.20137419, 0.20137419, 0.20137419])"
      ]
     },
     "execution_count": 13,
     "metadata": {},
     "output_type": "execute_result"
    }
   ],
   "source": [
    "G.tout_stat('mean_sz')"
   ]
  },
  {
   "cell_type": "code",
   "execution_count": 14,
   "id": "94ec1683-1529-4866-929d-6ba6cdaf9af9",
   "metadata": {},
   "outputs": [
    {
     "data": {
      "text/html": [
       "3.091670257478196×10<sup>-20</sup> meter"
      ],
      "text/latex": [
       "$3.091670257478196\\times 10^{-20}\\ \\mathrm{meter}$"
      ],
      "text/plain": [
       "<Quantity(3.09167026e-20, 'meter')>"
      ]
     },
     "execution_count": 14,
     "metadata": {},
     "output_type": "execute_result"
    }
   ],
   "source": [
    "B.avg('x')"
   ]
  },
  {
   "cell_type": "code",
   "execution_count": 15,
   "id": "b331b4de-123d-465a-b7a9-32bd4603884e",
   "metadata": {},
   "outputs": [
    {
     "data": {
      "text/plain": [
       "(<Quantity(-0.39458226, 'nanometer * electron_volt / speed_of_light')>,\n",
       " <Quantity(0.097855922, 'nanometer * electron_volt / speed_of_light')>,\n",
       " <Quantity(34.5322216, 'nanometer * electron_volt / speed_of_light')>)"
      ]
     },
     "execution_count": 15,
     "metadata": {},
     "output_type": "execute_result"
    }
   ],
   "source": [
    "B.avg('sx'), B.avg('sy'), B.avg('sz')"
   ]
  },
  {
   "cell_type": "code",
   "execution_count": 16,
   "id": "908be767-9a6c-4704-b19c-cf18c18b81c2",
   "metadata": {},
   "outputs": [
    {
     "data": {
      "text/plain": [
       "array([1., 1., 1., 1., 1., 1., 1., 1., 1., 1., 1., 1., 1., 1., 1., 1., 1.,\n",
       "       1., 1., 1., 1., 1., 1., 1., 1., 1., 1., 1., 1., 1., 1., 1., 1., 1.,\n",
       "       1., 1., 1., 1., 1., 1., 1., 1., 1., 1., 1., 1., 1., 1., 1., 1., 1.,\n",
       "       1., 1., 1., 1., 1., 1., 1., 1., 1., 1., 1., 1., 1., 1., 1., 1., 1.,\n",
       "       1., 1., 1., 1., 1., 1., 1., 1., 1., 1., 1., 1., 1., 1., 1., 1., 1.,\n",
       "       1., 1., 1., 1., 1., 1., 1., 1., 1., 1., 1., 1., 1., 1., 1., 1., 1.,\n",
       "       1., 1., 1., 1., 1., 1., 1., 1., 1., 1., 1., 1., 1., 1., 1., 1., 1.,\n",
       "       1., 1., 1., 1., 1., 1., 1., 1., 1., 1., 1., 1., 1., 1., 1., 1., 1.,\n",
       "       1., 1., 1., 1., 1., 1., 1., 1., 1., 1., 1., 1., 1., 1., 1., 1., 1.,\n",
       "       1., 1., 1., 1., 1., 1., 1., 1., 1., 1., 1., 1., 1., 1., 1., 1., 1.,\n",
       "       1., 1., 1., 1., 1., 1., 1., 1., 1., 1., 1., 1., 1., 1., 1., 1., 1.,\n",
       "       1., 1., 1., 1., 1., 1., 1., 1., 1., 1., 1., 1., 1., 1., 1., 1., 1.,\n",
       "       1., 1., 1., 1., 1., 1., 1., 1., 1., 1., 1., 1., 1., 1., 1., 1., 1.,\n",
       "       1., 1., 1., 1., 1., 1., 1., 1., 1., 1., 1., 1., 1., 1., 1., 1., 1.,\n",
       "       1., 1., 1., 1., 1., 1., 1., 1., 1., 1., 1., 1., 1., 1., 1., 1., 1.,\n",
       "       1., 1., 1., 1., 1., 1., 1., 1., 1., 1., 1., 1., 1., 1., 1., 1., 1.,\n",
       "       1., 1., 1., 1., 1., 1., 1., 1., 1., 1., 1., 1., 1., 1., 1., 1., 1.,\n",
       "       1., 1., 1., 1., 1., 1., 1., 1., 1., 1., 1., 1., 1., 1., 1., 1., 1.,\n",
       "       1., 1., 1., 1., 1., 1., 1., 1., 1., 1., 1., 1., 1., 1., 1., 1., 1.,\n",
       "       1., 1., 1., 1., 1., 1., 1., 1., 1., 1., 1., 1., 1., 1., 1., 1., 1.,\n",
       "       1., 1., 1., 1., 1., 1., 1., 1., 1., 1., 1., 1., 1., 1., 1., 1., 1.,\n",
       "       1., 1., 1., 1., 1., 1., 1., 1., 1., 1., 1., 1., 1., 1., 1., 1., 1.,\n",
       "       1., 1., 1., 1., 1., 1., 1., 1., 1., 1., 1., 1., 1., 1., 1., 1., 1.,\n",
       "       1., 1., 1., 1., 1., 1., 1., 1., 1., 1., 1., 1., 1., 1., 1., 1., 1.,\n",
       "       1., 1., 1., 1., 1., 1., 1., 1., 1., 1., 1., 1., 1., 1., 1., 1., 1.,\n",
       "       1., 1., 1., 1., 1., 1., 1., 1., 1., 1., 1., 1., 1., 1., 1., 1., 1.,\n",
       "       1., 1., 1., 1., 1., 1., 1., 1., 1., 1., 1., 1., 1., 1., 1., 1., 1.,\n",
       "       1., 1., 1., 1., 1., 1., 1., 1., 1., 1., 1., 1., 1., 1., 1., 1., 1.,\n",
       "       1., 1., 1., 1., 1., 1., 1., 1., 1., 1., 1., 1., 1., 1., 1., 1., 1.,\n",
       "       1., 1., 1., 1., 1., 1., 1., 1., 1., 1., 1., 1., 1., 1., 1., 1., 1.,\n",
       "       1., 1., 1., 1., 1., 1., 1., 1., 1., 1., 1., 1., 1., 1., 1., 1., 1.,\n",
       "       1., 1., 1., 1., 1., 1., 1., 1., 1., 1., 1., 1., 1., 1., 1., 1., 1.,\n",
       "       1., 1., 1., 1., 1., 1., 1., 1., 1., 1., 1., 1., 1., 1., 1., 1., 1.,\n",
       "       1., 1., 1., 1., 1., 1., 1., 1., 1., 1., 1., 1., 1., 1., 1., 1., 1.,\n",
       "       1., 1., 1., 1., 1., 1., 1., 1., 1., 1., 1., 1., 1., 1., 1., 1., 1.,\n",
       "       1., 1., 1., 1., 1., 1., 1., 1., 1., 1., 1., 1., 1., 1., 1., 1., 1.,\n",
       "       1., 1., 1., 1., 1., 1., 1., 1., 1., 1., 1., 1., 1., 1., 1., 1., 1.,\n",
       "       1., 1., 1., 1., 1., 1., 1., 1., 1., 1., 1., 1., 1., 1., 1., 1., 1.,\n",
       "       1., 1., 1., 1., 1., 1., 1., 1., 1., 1., 1., 1., 1., 1., 1., 1., 1.,\n",
       "       1., 1., 1., 1., 1., 1., 1., 1., 1., 1., 1., 1., 1., 1., 1., 1., 1.,\n",
       "       1., 1., 1., 1., 1., 1., 1., 1., 1., 1., 1., 1., 1., 1., 1., 1., 1.,\n",
       "       1., 1., 1., 1., 1., 1., 1., 1., 1., 1., 1., 1., 1., 1., 1., 1., 1.,\n",
       "       1., 1., 1., 1., 1., 1., 1., 1., 1., 1., 1., 1., 1., 1., 1., 1., 1.,\n",
       "       1., 1., 1., 1., 1., 1., 1., 1., 1., 1., 1., 1., 1., 1., 1., 1., 1.,\n",
       "       1., 1., 1., 1., 1., 1., 1., 1., 1., 1., 1., 1., 1., 1., 1., 1., 1.,\n",
       "       1., 1., 1., 1., 1., 1., 1., 1., 1., 1., 1., 1., 1., 1., 1., 1., 1.,\n",
       "       1., 1., 1., 1., 1., 1., 1., 1., 1., 1., 1., 1., 1., 1., 1., 1., 1.,\n",
       "       1., 1., 1., 1., 1., 1., 1., 1., 1., 1., 1., 1., 1., 1., 1., 1., 1.,\n",
       "       1., 1., 1., 1., 1., 1., 1., 1., 1., 1., 1., 1., 1., 1., 1., 1., 1.,\n",
       "       1., 1., 1., 1., 1., 1., 1., 1., 1., 1., 1., 1., 1., 1., 1., 1., 1.,\n",
       "       1., 1., 1., 1., 1., 1., 1., 1., 1., 1., 1., 1., 1., 1., 1., 1., 1.,\n",
       "       1., 1., 1., 1., 1., 1., 1., 1., 1., 1., 1., 1., 1., 1., 1., 1., 1.,\n",
       "       1., 1., 1., 1., 1., 1., 1., 1., 1., 1., 1., 1., 1., 1., 1., 1., 1.,\n",
       "       1., 1., 1., 1., 1., 1., 1., 1., 1., 1., 1., 1., 1., 1., 1., 1., 1.,\n",
       "       1., 1., 1., 1., 1., 1., 1., 1., 1., 1., 1., 1., 1., 1., 1., 1., 1.,\n",
       "       1., 1., 1., 1., 1., 1., 1., 1., 1., 1., 1., 1., 1., 1., 1., 1., 1.,\n",
       "       1., 1., 1., 1., 1., 1., 1., 1., 1., 1., 1., 1., 1., 1., 1., 1., 1.,\n",
       "       1., 1., 1., 1., 1., 1., 1., 1., 1., 1., 1., 1., 1., 1., 1., 1., 1.,\n",
       "       1., 1., 1., 1., 1., 1., 1., 1., 1., 1., 1., 1., 1., 1.])"
      ]
     },
     "execution_count": 16,
     "metadata": {},
     "output_type": "execute_result"
    }
   ],
   "source": [
    "G.tout_spin[0]['sx']**2 + G.tout_spin[0]['sy']**2 + G.tout_spin[0]['sz']**2"
   ]
  },
  {
   "cell_type": "code",
   "execution_count": 17,
   "id": "3a135b67-bef1-45ca-93a0-2bcb9e3f0f50",
   "metadata": {},
   "outputs": [],
   "source": [
    "#B.sz"
   ]
  },
  {
   "cell_type": "code",
   "execution_count": 18,
   "id": "e33d70cb-2988-443c-aa7a-a883431e0716",
   "metadata": {},
   "outputs": [
    {
     "data": {
      "text/html": [
       "0.35000000000000003 dimensionless"
      ],
      "text/latex": [
       "$0.35000000000000003\\ \\mathrm{dimensionless}$"
      ],
      "text/plain": [
       "<Quantity(0.35, 'dimensionless')>"
      ]
     },
     "execution_count": 18,
     "metadata": {},
     "output_type": "execute_result"
    }
   ],
   "source": [
    "import numpy as np\n",
    "\n",
    "np.sum(B.sz)/np.sum(np.abs(B.sz))"
   ]
  },
  {
   "cell_type": "code",
   "execution_count": 37,
   "id": "a2109f8a-f133-4768-8f08-60ffad754187",
   "metadata": {},
   "outputs": [
    {
     "data": {
      "text/plain": [
       "np.float64(1.0)"
      ]
     },
     "execution_count": 37,
     "metadata": {},
     "output_type": "execute_result"
    }
   ],
   "source": [
    "theta = 0\n",
    "thr = np.pi * theta / 180\n",
    "\n",
    "ehat = np.array([np.cos(thr), 0, np.sin(thr)])\n",
    "\n",
    "ehat = ehat / np.sqrt(np.sum(ehat**2))\n",
    "\n",
    "np.sqrt(np.sum(ehat**2))"
   ]
  },
  {
   "cell_type": "code",
   "execution_count": 38,
   "id": "17f85924-2d37-4a98-a6ab-ce8ff644946e",
   "metadata": {},
   "outputs": [
    {
     "data": {
      "text/html": [
       "-0.004448545481073368 dimensionless"
      ],
      "text/latex": [
       "$-0.004448545481073368\\ \\mathrm{dimensionless}$"
      ],
      "text/plain": [
       "<Quantity(-0.00444854548, 'dimensionless')>"
      ]
     },
     "execution_count": 38,
     "metadata": {},
     "output_type": "execute_result"
    }
   ],
   "source": [
    "np.sum(B.sx * ehat[0])/np.sum(np.abs(B.sx * ehat[0]))"
   ]
  },
  {
   "cell_type": "code",
   "execution_count": 39,
   "id": "62a12960-be5e-4121-a65d-603f9386d3e3",
   "metadata": {},
   "outputs": [
    {
     "data": {
      "text/html": [
       "nan dimensionless"
      ],
      "text/latex": [
       "$nan\\ \\mathrm{dimensionless}$"
      ],
      "text/plain": [
       "<Quantity(nan, 'dimensionless')>"
      ]
     },
     "execution_count": 39,
     "metadata": {},
     "output_type": "execute_result"
    }
   ],
   "source": [
    "np.sum(B.sz * ehat[1])/np.sum(np.abs(B.sz* ehat[1]))"
   ]
  },
  {
   "cell_type": "code",
   "execution_count": 40,
   "id": "8d4e72da-ebe6-4c04-9366-16c095787353",
   "metadata": {},
   "outputs": [
    {
     "data": {
      "text/html": [
       "nan dimensionless"
      ],
      "text/latex": [
       "$nan\\ \\mathrm{dimensionless}$"
      ],
      "text/plain": [
       "<Quantity(nan, 'dimensionless')>"
      ]
     },
     "execution_count": 40,
     "metadata": {},
     "output_type": "execute_result"
    }
   ],
   "source": [
    "np.sum(B.sz * ehat[2])/np.sum(np.abs(B.sz* ehat[2]))"
   ]
  },
  {
   "cell_type": "code",
   "execution_count": 41,
   "id": "8f7d781d-f150-4d81-9fb2-09bfe32b1ec2",
   "metadata": {},
   "outputs": [
    {
     "data": {
      "text/plain": [
       "array([1., 0., 0.])"
      ]
     },
     "execution_count": 41,
     "metadata": {},
     "output_type": "execute_result"
    }
   ],
   "source": [
    "ehat"
   ]
  },
  {
   "cell_type": "code",
   "execution_count": 48,
   "id": "6d15d876-476f-4905-8005-7b8501f6f703",
   "metadata": {},
   "outputs": [
    {
     "data": {
      "text/html": [
       "0.2020725942163691 dimensionless"
      ],
      "text/latex": [
       "$0.2020725942163691\\ \\mathrm{dimensionless}$"
      ],
      "text/plain": [
       "<Quantity(0.202072594, 'dimensionless')>"
      ]
     },
     "execution_count": 48,
     "metadata": {},
     "output_type": "execute_result"
    }
   ],
   "source": [
    "np.sum(B.w * B.sz/np.sqrt(B.s2))"
   ]
  },
  {
   "cell_type": "code",
   "execution_count": 55,
   "id": "ca09dd77-056b-4c41-bd62-5428e6fa9e43",
   "metadata": {},
   "outputs": [],
   "source": [
    "sx0 = np.sum(B.w * B.sx)/np.sqrt(B.s2)\n",
    "sy0 = np.sum(B.w * B.sy)/np.sqrt(B.s2)\n",
    "sz0 = np.sum(B.w * B.sz)/np.sqrt(B.s2)"
   ]
  },
  {
   "cell_type": "code",
   "execution_count": 57,
   "id": "7a70f3b2-ee84-4d2d-82a7-022956780eff",
   "metadata": {},
   "outputs": [
    {
     "data": {
      "text/html": [
       "-0.0023089815049394356 dimensionless"
      ],
      "text/latex": [
       "$-0.0023089815049394356\\ \\mathrm{dimensionless}$"
      ],
      "text/plain": [
       "<Quantity(-0.0023089815, 'dimensionless')>"
      ]
     },
     "execution_count": 57,
     "metadata": {},
     "output_type": "execute_result"
    }
   ],
   "source": [
    "max(sx0)"
   ]
  },
  {
   "cell_type": "code",
   "execution_count": 58,
   "id": "32a3a7f7-6ac4-4766-834c-a0efbcf587d8",
   "metadata": {},
   "outputs": [
    {
     "data": {
      "text/html": [
       "0.0005726246131663427 dimensionless"
      ],
      "text/latex": [
       "$0.0005726246131663427\\ \\mathrm{dimensionless}$"
      ],
      "text/plain": [
       "<Quantity(0.000572624613, 'dimensionless')>"
      ]
     },
     "execution_count": 58,
     "metadata": {},
     "output_type": "execute_result"
    }
   ],
   "source": [
    "max(sy0)"
   ]
  },
  {
   "cell_type": "code",
   "execution_count": 59,
   "id": "9df7b980-8980-4b06-a82a-3014c15ba514",
   "metadata": {},
   "outputs": [
    {
     "data": {
      "text/html": [
       "0.20207259421636914 dimensionless"
      ],
      "text/latex": [
       "$0.20207259421636914\\ \\mathrm{dimensionless}$"
      ],
      "text/plain": [
       "<Quantity(0.202072594, 'dimensionless')>"
      ]
     },
     "execution_count": 59,
     "metadata": {},
     "output_type": "execute_result"
    }
   ],
   "source": [
    "max(sz0)"
   ]
  },
  {
   "cell_type": "code",
   "execution_count": 68,
   "id": "04721bd4-9666-406d-9c33-fdb1cbdf1b09",
   "metadata": {},
   "outputs": [],
   "source": [
    "P = np.array([ np.sum(B.w * B.sx/ np.sqrt(B.s2)), np.sum(B.w * B.sy/np.sqrt(B.s2)), np.sum(B.w * B.sz/np.sqrt(B.s2)) ])"
   ]
  },
  {
   "cell_type": "code",
   "execution_count": 69,
   "id": "3a72c5a0-5d12-4527-b384-59cba320ccda",
   "metadata": {},
   "outputs": [
    {
     "data": {
      "text/plain": [
       "array([-0.00230898,  0.00057262,  0.20207259])"
      ]
     },
     "execution_count": 69,
     "metadata": {},
     "output_type": "execute_result"
    }
   ],
   "source": [
    "P"
   ]
  },
  {
   "cell_type": "code",
   "execution_count": 78,
   "id": "8fb58933-9a9d-4494-b7ed-2e3b011393a2",
   "metadata": {},
   "outputs": [],
   "source": [
    "P = np.array([ B.sx[0]/np.sqrt(B.s2)[0],  B.sy[0]/np.sqrt(B.s2)[0], B.sz[0]/np.sqrt(B.s2)[0]])"
   ]
  },
  {
   "cell_type": "code",
   "execution_count": 79,
   "id": "8cea6717-f803-423e-966c-63af4ad04af4",
   "metadata": {},
   "outputs": [
    {
     "data": {
      "text/plain": [
       "np.float64(1.0)"
      ]
     },
     "execution_count": 79,
     "metadata": {},
     "output_type": "execute_result"
    }
   ],
   "source": [
    "np.sum(P**2)"
   ]
  },
  {
   "cell_type": "code",
   "execution_count": 80,
   "id": "9121a7d9-f3ba-4614-9349-473f55b7f459",
   "metadata": {},
   "outputs": [],
   "source": [
    "import os\n",
    "\n",
    "os.remove('gpt.in')\n",
    "os.remove('gpt_particles.gdf')"
   ]
  },
  {
   "cell_type": "code",
   "execution_count": null,
   "id": "267a5265-2da3-40a5-945f-76a64353b400",
   "metadata": {},
   "outputs": [],
   "source": []
  }
 ],
 "metadata": {
  "kernelspec": {
   "display_name": "Python 3 (ipykernel)",
   "language": "python",
   "name": "python3"
  },
  "language_info": {
   "codemirror_mode": {
    "name": "ipython",
    "version": 3
   },
   "file_extension": ".py",
   "mimetype": "text/x-python",
   "name": "python",
   "nbconvert_exporter": "python",
   "pygments_lexer": "ipython3",
   "version": "3.12.4"
  }
 },
 "nbformat": 4,
 "nbformat_minor": 5
}
