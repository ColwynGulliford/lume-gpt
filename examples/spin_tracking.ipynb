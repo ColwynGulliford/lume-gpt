{
 "cells": [
  {
   "cell_type": "code",
   "execution_count": 1,
   "id": "16bed1e5-b96c-4c00-910a-5efc5cfc201a",
   "metadata": {},
   "outputs": [],
   "source": [
    "from distgen import Generator\n",
    "from gpt import GPT\n",
    "\n",
    "\n",
    "\n",
    "%load_ext autoreload\n",
    "%autoreload 2\n",
    "%config InlineBackend.figure_format = 'retina'"
   ]
  },
  {
   "cell_type": "code",
   "execution_count": 2,
   "id": "e98aae23-4ec1-44bb-9bfb-5b5e661fa548",
   "metadata": {},
   "outputs": [],
   "source": [
    "YAML=\"\"\"\n",
    "n_particle: 200000\n",
    "output:\n",
    "  type: null\n",
    "px_dist:\n",
    "  sigma_px: 0.1 keV/c\n",
    "  type: gaussian\n",
    "py_dist:\n",
    "  sigma_py: 0.1 keV/c\n",
    "  type: gaussian\n",
    "pz_dist:\n",
    "  avg_pz: 15 keV/c\n",
    "  sigma_pz: 0.1 keV/c\n",
    "  type: gaussian\n",
    "r_dist:\n",
    "  sigma_xy:\n",
    "    units: millimeter\n",
    "    value: 1.0\n",
    "  type: radial_gaussian\n",
    "random:\n",
    "  type: hammersley\n",
    "species: electron\n",
    "#spin_polarization: 0.35\n",
    "start:\n",
    "  tstart:\n",
    "    units: second\n",
    "    value: 0\n",
    "  type: time\n",
    "total_charge:\n",
    "  units: picocoulomb\n",
    "  value: 10\n",
    "transforms: null\n",
    "z_dist:\n",
    "  avg_z:\n",
    "    units: millimeter\n",
    "    value: 0.0\n",
    "  sigma_z:\n",
    "    units: millimeter\n",
    "    value: 2.0\n",
    "  type: gaussian\n",
    "\"\"\""
   ]
  },
  {
   "cell_type": "code",
   "execution_count": 3,
   "id": "c4a3c87f-7b3c-433b-9d6a-35e8b335b157",
   "metadata": {},
   "outputs": [],
   "source": [
    "D = Generator(YAML)"
   ]
  },
  {
   "cell_type": "code",
   "execution_count": 4,
   "id": "c602b335-3d6e-4add-a681-30f74b3470e7",
   "metadata": {},
   "outputs": [],
   "source": [
    "D['n_particle']=1_000"
   ]
  },
  {
   "cell_type": "code",
   "execution_count": 5,
   "id": "423c882d-dd34-4398-87dc-ed9481758af2",
   "metadata": {},
   "outputs": [],
   "source": [
    "B = D.beam()"
   ]
  },
  {
   "cell_type": "code",
   "execution_count": 6,
   "id": "a39ffd44-2b6a-4cbf-b945-0f600d8e08f4",
   "metadata": {},
   "outputs": [],
   "source": [
    "from distgen.writers import write_gpt"
   ]
  },
  {
   "cell_type": "code",
   "execution_count": 7,
   "id": "ea1ccc8e-c00a-4907-aba3-c87db008439e",
   "metadata": {},
   "outputs": [
    {
     "name": "stdout",
     "output_type": "stream",
     "text": [
      "Printing 1000 particles to \"gpt_particles.gdf\":    Converting file to GDF: done. Time ellapsed: 7.63893 ms.\n",
      "...done. Time ellapsed: 13.9828 ms.\n"
     ]
    }
   ],
   "source": [
    "write_gpt(B, 'gpt_particles.gdf', verbose=1, asci2gdf_bin='$ASCI2GDF_BIN')"
   ]
  },
  {
   "cell_type": "code",
   "execution_count": 8,
   "id": "9b82dcf3-d6ff-4fbb-ae2a-b4efcd25570e",
   "metadata": {},
   "outputs": [],
   "source": [
    "from gpt.template import BASIC_TEMPLATE\n",
    "\n",
    "#BASIC_TEMPLATE"
   ]
  },
  {
   "cell_type": "code",
   "execution_count": 9,
   "id": "845c9d53-05d5-4ce6-9272-bccb485173c4",
   "metadata": {},
   "outputs": [],
   "source": [
    "with open('gpt.in', 'w') as fid:\n",
    "    fid.write('\\n'.join(BASIC_TEMPLATE))"
   ]
  },
  {
   "cell_type": "code",
   "execution_count": 10,
   "id": "2e07d5f0-d600-4852-9bbb-a356e5cebec6",
   "metadata": {},
   "outputs": [],
   "source": [
    "G = GPT('gpt.in', spin_tracking=True)"
   ]
  },
  {
   "cell_type": "code",
   "execution_count": 12,
   "id": "3dd233b6-224e-4622-96ec-369b7e59202f",
   "metadata": {},
   "outputs": [],
   "source": [
    "G.run()"
   ]
  },
  {
   "cell_type": "code",
   "execution_count": 14,
   "id": "bd9a498a-6a15-4c66-8e2d-f52371a73c98",
   "metadata": {},
   "outputs": [
    {
     "name": "stdout",
     "output_type": "stream",
     "text": [
      "\n",
      "GPT object:\n",
      "   Original input file: gpt.in\n",
      "   Template location: /Users/colwyngulliford/GitHub/lume-gpt/examples\n",
      "   Use temp directory: True\n",
      "\n",
      "Run Control\n",
      "   Run configured: True\n",
      "   Work location: /var/folders/w8/8n1md1352pzd3nqp0lhc5jy00000gn/T/tmp0_750qdl\n",
      "   Timeout: None (sec)\n",
      "\n",
      "Results\n",
      "   Finished: True\n",
      "   Error occured: True\n",
      "   Cause: gpt: /var/folders/w8/8n1md1352pzd3nqp0lhc5jy00000gn/T/tmp0_750qdl/gpt.in(1): Error: gpt_particles.gdf: Magnetic moment \"sping\" must be specified when GPT is run in spin-mode\n",
      "   Run time: 0.011054754257202148 (sec)\n"
     ]
    }
   ],
   "source": [
    "print(G)"
   ]
  },
  {
   "cell_type": "code",
   "execution_count": null,
   "id": "57be5b36-35b3-4771-9a77-bdaf6869d207",
   "metadata": {},
   "outputs": [],
   "source": []
  }
 ],
 "metadata": {
  "kernelspec": {
   "display_name": "Python 3 (ipykernel)",
   "language": "python",
   "name": "python3"
  },
  "language_info": {
   "codemirror_mode": {
    "name": "ipython",
    "version": 3
   },
   "file_extension": ".py",
   "mimetype": "text/x-python",
   "name": "python",
   "nbconvert_exporter": "python",
   "pygments_lexer": "ipython3",
   "version": "3.12.4"
  }
 },
 "nbformat": 4,
 "nbformat_minor": 5
}
