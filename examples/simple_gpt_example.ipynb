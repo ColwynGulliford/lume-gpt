{
 "cells": [
  {
   "cell_type": "code",
   "execution_count": 20,
   "metadata": {
    "tags": []
   },
   "outputs": [
    {
     "name": "stdout",
     "output_type": "stream",
     "text": [
      "The autoreload extension is already loaded. To reload it, use:\n",
      "  %reload_ext autoreload\n"
     ]
    }
   ],
   "source": [
    "# Useful for debugging\n",
    "%load_ext autoreload\n",
    "%autoreload 2\n",
    "%matplotlib inline\n",
    "%config InlineBackend.figure_format = 'retina'\n",
    "\n",
    "import os\n",
    "from matplotlib import pyplot as plt"
   ]
  },
  {
   "cell_type": "markdown",
   "metadata": {},
   "source": [
    "# Simple GPT example\n",
    "----\n",
    "This example shows the basic usage of the LUME-GPT class object used to drive GPT simulations from Python.  Typically, the first step in using a GPT object is setting up a template directory.  This directory should include the GPT input file (typically 'gpt.in') and a folder (typically named 'fields') where any field maps shoule be stored.  Here the template directory is 'lume-gpt/templates/dcgun'.  This example includes an GPT file with a dcgun followed by a solenoid, both modeled by field maps.  A static input particle GDF files is also included.  Later, creating a distribution on the fly is discussed."
   ]
  },
  {
   "cell_type": "code",
   "execution_count": 21,
   "metadata": {
    "tags": []
   },
   "outputs": [],
   "source": [
    "from gpt import GPT"
   ]
  },
  {
   "cell_type": "markdown",
   "metadata": {},
   "source": [
    "Initialization  of the GPT object requires providing a gpt input filename, among other possible inputs."
   ]
  },
  {
   "cell_type": "code",
   "execution_count": 22,
   "metadata": {
    "tags": []
   },
   "outputs": [
    {
     "name": "stdout",
     "output_type": "stream",
     "text": [
      "GPT.configure_gpt:\n",
      "   Original input file \"gpt.in\" in \"/Users/colwyngulliford/GitHub/lume-gpt/examples/templates/dcgun\"\n",
      "   Configured to run in \"/var/folders/jf/c053b9m10035hkwq4wd3bzhr0000gn/T/tmpqkq18m2j\"\n"
     ]
    }
   ],
   "source": [
    "G = GPT(input_file='templates/dcgun/gpt.in', verbose=True, load_fields=True)"
   ]
  },
  {
   "cell_type": "markdown",
   "metadata": {},
   "source": [
    "The GPT object is configured to run on initialization.  Unless specified, the simulation set to run in a temporay directory, as can be seen above.  At this point the GPT file in template directory has been read in and variables lines of the form \"name = value;\" have been loaded into G.input['variables']:"
   ]
  },
  {
   "cell_type": "code",
   "execution_count": 23,
   "metadata": {
    "tags": []
   },
   "outputs": [
    {
     "data": {
      "text/plain": [
       "{'Master_RF': 1300000000.0,\n",
       " 'icm_energy_override': 0.0,\n",
       " 'gun_voltage': 300.0,\n",
       " 'sol_1_current': 3.75,\n",
       " 'time': 0.0,\n",
       " 'auto_phase': 0.0,\n",
       " 'single_particle': 0.0,\n",
       " 'space_charge': 1.0,\n",
       " 'space_charge_type': 1.0,\n",
       " 'viewscreens_on': 1.0,\n",
       " 'kill_backwards_particles': 0.0,\n",
       " 'correctors_on': 0.0,\n",
       " 'alignment_screens_on': 0.0,\n",
       " 'a1_section_on': 1.0,\n",
       " 'RadiusMax': 0.04,\n",
       " 'GBacc': 5.5,\n",
       " 'xacc': 6.5,\n",
       " 'dtmin': 1e-16,\n",
       " 'dtmax': 1e-10,\n",
       " 'corrector_length': 0.0,\n",
       " 'corrector_width': 0.1,\n",
       " 'ZSLA01': 0.344,\n",
       " 'ZCTB01': 0.746,\n",
       " 'ZSLA02': 1.16,\n",
       " 'Zdcgun': 0.15,\n",
       " 'Maxdcgun': 500.0,\n",
       " 'SLAPolarity': -1.0,\n",
       " 'LSLA01': 0.6,\n",
       " 'XSLA01': 0.0,\n",
       " 'YSLA01': 0.0,\n",
       " 'THXSLA01': 0.0,\n",
       " 'IA1SDR01_z': 0.922,\n",
       " 'ZSTOP': 1.5,\n",
       " 'Alpha': 1.0,\n",
       " 'Fn': 0.5,\n",
       " 'verror': 0.005,\n",
       " 'Nstd': 5.0,\n",
       " 'tree_code_theta': 1.0,\n",
       " 'tree_code_R': 1e-06,\n",
       " 'ZSTART': -0.005,\n",
       " 'tmax': 1e-08,\n",
       " 'Ntout': 10.0}"
      ]
     },
     "execution_count": 23,
     "metadata": {},
     "output_type": "execute_result"
    }
   ],
   "source": [
    "G.input['variables']"
   ]
  },
  {
   "cell_type": "markdown",
   "metadata": {},
   "source": [
    "These represent all variables in the input file that can have value replacements substituted into the final gpt file used to run the simulation.  Replacements are handled by passing in a dictionary of names and values to GPT.set_variables(settings).  The function returns a dictionary of names and booleans if the variable replace was successful (a False value typically indicates the variables was not found in the input file):  "
   ]
  },
  {
   "cell_type": "code",
   "execution_count": 24,
   "metadata": {
    "tags": []
   },
   "outputs": [
    {
     "name": "stdout",
     "output_type": "stream",
     "text": [
      "{'gun_voltage': True, 'sol_1_current': True, 'Ntout': True}\n"
     ]
    }
   ],
   "source": [
    "variables_were_set = G.set_variables({'gun_voltage':375,'sol_1_current':-3, 'Ntout':100})\n",
    "print(variables_were_set)"
   ]
  },
  {
   "cell_type": "markdown",
   "metadata": {
    "tags": []
   },
   "source": [
    "The GPT object handles supporting files that are called in the GPT input file.  To see a list of support files that have been associated use:"
   ]
  },
  {
   "cell_type": "code",
   "execution_count": 25,
   "metadata": {
    "tags": []
   },
   "outputs": [
    {
     "data": {
      "text/plain": [
       "{14: 'gpt_particles.gdf',\n",
       " 29: 'fields/gun_0mm.gdf',\n",
       " 36: 'fields/solenoid_SLA_L60.gdf'}"
      ]
     },
     "execution_count": 25,
     "metadata": {},
     "output_type": "execute_result"
    }
   ],
   "source": [
    "G.input['support_files']"
   ]
  },
  {
   "cell_type": "code",
   "execution_count": 26,
   "metadata": {
    "tags": []
   },
   "outputs": [],
   "source": [
    "#G.set_support_file('gun_0mm.gdf', 'gun_1mm.gdf')"
   ]
  },
  {
   "cell_type": "markdown",
   "metadata": {},
   "source": [
    "To run the GPT simulation, with the above variable replacements made, simply call GPT.run():"
   ]
  },
  {
   "cell_type": "code",
   "execution_count": 27,
   "metadata": {
    "tags": []
   },
   "outputs": [
    {
     "name": "stdout",
     "output_type": "stream",
     "text": [
      "GPT.run_gpt:\n",
      "   Running GPT...\n",
      "   Writing gpt input file to \"/var/folders/jf/c053b9m10035hkwq4wd3bzhr0000gn/T/tmpqkq18m2j/gpt.in\"\n",
      "   Running with timeout = None sec.\n",
      "   Loading GPT data from /var/folders/jf/c053b9m10035hkwq4wd3bzhr0000gn/T/tmpqkq18m2j/gpt.out.gdf\n",
      "   GDF data loaded, time ellapsed: 0.0186157 (sec).\n",
      "   Converting tout and screen data to ParticleGroup(s)\n",
      "   Run finished, total time ellapsed: 0.6592 (sec)\n"
     ]
    }
   ],
   "source": [
    "G.run()"
   ]
  },
  {
   "cell_type": "markdown",
   "metadata": {},
   "source": [
    "This causes the GPT to run and the output data loaded into the GPT object.  Important data is stored in the GPT.output dictionary.  The raw screen and tout data is stored in G.screen and G.tout respectively.  The general info of the object and run can be printed using print(GPT):"
   ]
  },
  {
   "cell_type": "code",
   "execution_count": 28,
   "metadata": {
    "tags": []
   },
   "outputs": [
    {
     "name": "stdout",
     "output_type": "stream",
     "text": [
      "dict_keys(['tout_data', 'screen_data', 'particles', 'n_tout', 'n_screen', 'start_time', 'run_time', 'run_error'])\n",
      "number of touts: 64\n",
      "number of screens: 1\n",
      "\n",
      "GPT object:\n",
      "   Original input file: gpt.in\n",
      "   Template location: /Users/colwyngulliford/GitHub/lume-gpt/examples/templates/dcgun\n",
      "   Use temp directory: True\n",
      "\n",
      "Run Control\n",
      "   Run configured: True\n",
      "   Work location: /var/folders/jf/c053b9m10035hkwq4wd3bzhr0000gn/T/tmpqkq18m2j\n",
      "   Timeout: None (sec)\n",
      "\n",
      "Results\n",
      "   Finished: True\n",
      "   Error occured: False\n",
      "   Run time: 0.6591999530792236 (sec)\n"
     ]
    }
   ],
   "source": [
    "print(G.output.keys())\n",
    "print('number of touts:',G.n_tout)\n",
    "print('number of screens:', G.n_screen)\n",
    "\n",
    "# Info\n",
    "print(G)"
   ]
  },
  {
   "cell_type": "code",
   "execution_count": 29,
   "metadata": {
    "tags": []
   },
   "outputs": [
    {
     "data": {
      "text/plain": [
       "'4e38a609be1ee9e94fae2e6375602743'"
      ]
     },
     "execution_count": 29,
     "metadata": {},
     "output_type": "execute_result"
    }
   ],
   "source": [
    "# Unique fingerprint based on input\n",
    "G.fingerprint()"
   ]
  },
  {
   "cell_type": "code",
   "execution_count": 30,
   "metadata": {
    "tags": []
   },
   "outputs": [
    {
     "data": {
      "image/png": "[encoded data removed]",
      "text/plain": [
       "<Figure size 640x480 with 1 Axes>"
      ]
     },
     "metadata": {
      "image/png": {
       "height": 432,
       "width": 592
      }
     },
     "output_type": "display_data"
    }
   ],
   "source": [
    "plt.plot(G.tout[10]['z'], G.tout_fields[10]['Ez'], '.');\n",
    "plt.xlabel('z (m)');\n",
    "plt.ylabel('Ez (V/m)');"
   ]
  },
  {
   "cell_type": "markdown",
   "metadata": {
    "tags": []
   },
   "source": [
    "The GPT Object will raise an exception if it sees an error reported back from GPT.  Below is an example of trying to run an input file that doesn't properly point to the associated support files (input particles and fieldmaps):"
   ]
  },
  {
   "cell_type": "code",
   "execution_count": 31,
   "metadata": {
    "tags": []
   },
   "outputs": [
    {
     "name": "stdout",
     "output_type": "stream",
     "text": [
      "Could not parse line: Map2D_E(\"wcs\", \"z\", Zdcgun, \"fields/gun_0mm.gdf\", \"R\", \"Z\", \"Er\", \"Ez\", Edcgun);\n",
      "Source GDF file /Users/colwyngulliford/GitHub/lume-gpt/examples/fields/gun_0mm.gdf does not exist.\n",
      "Could not parse line: Map2D_B(\"wcs\", XSLA01,YSLA01,ZSLA01,  1,0,0, 0,1,0, \"fields/solenoid_SLA_L60.gdf\", \"R\", \"Z\", \"Br\", \"Bz\", BSLA01);\n",
      "Source GDF file /Users/colwyngulliford/GitHub/lume-gpt/examples/fields/solenoid_SLA_L60.gdf does not exist.\n",
      "gpt: /var/folders/jf/c053b9m10035hkwq4wd3bzhr0000gn/T/tmpc4c96dxw/gpt.in(15): Error: \"gpt_particles.gdf\": No such file or directory\n"
     ]
    }
   ],
   "source": [
    "import shutil\n",
    "\n",
    "shutil.copy('templates/dcgun/gpt.in', './gpt.in')\n",
    "\n",
    "try:\n",
    "    Gerr = GPT('gpt.in')\n",
    "    Gerr.run()\n",
    "    \n",
    "except Exception as ex:\n",
    "\n",
    "    print(ex)\n",
    "\n",
    "os.remove('gpt.in')"
   ]
  },
  {
   "cell_type": "markdown",
   "metadata": {
    "tags": []
   },
   "source": [
    "This behavior should also detect GPT syntax typos in the GPT lattice file:"
   ]
  },
  {
   "cell_type": "code",
   "execution_count": 36,
   "metadata": {
    "tags": []
   },
   "outputs": [
    {
     "name": "stdout",
     "output_type": "stream",
     "text": [
      "Caught: gpt: /var/folders/jf/c053b9m10035hkwq4wd3bzhr0000gn/T/tmpoky8cm1v/gpt.in(68): Error: syntax error\n",
      "\n",
      "GPT object:\n",
      "   Original input file: gpt.in\n",
      "   Template location: /Users/colwyngulliford/GitHub/lume-gpt/examples/templates/dcgun\n",
      "   Use temp directory: True\n",
      "\n",
      "Run Control\n",
      "   Run configured: True\n",
      "   Work location: /var/folders/jf/c053b9m10035hkwq4wd3bzhr0000gn/T/tmpoky8cm1v\n",
      "   Timeout: None (sec)\n",
      "\n",
      "Results\n",
      "   Finished: False\n",
      "   Error occured: True\n",
      " Cause: GPT failed to start.  Empty output generated\n"
     ]
    }
   ],
   "source": [
    "try:\n",
    "    Gerr = GPT('templates/dcgun/gpt.in')\n",
    "    Gerr.input['lines'].append('adding typo!')\n",
    "    Gerr.run()\n",
    "\n",
    "\n",
    "except Exception as ex:\n",
    "\n",
    "    print('Caught:', ex)\n",
    "\n",
    "print(Gerr)    "
   ]
  },
  {
   "cell_type": "markdown",
   "metadata": {
    "tags": []
   },
   "source": [
    "This behavior can be disabled by setting `GPT.raise_on_gpt_error` to False, however, this is not recommended generally."
   ]
  },
  {
   "cell_type": "markdown",
   "metadata": {},
   "source": [
    "# Accessing Particle Data\n",
    "The tout and screen data is automatically loaded into a single array of PMD Beam Physics ParticleGroups in `GPT.output['particles']`. Touts come first in the array, followed by screens. This data can be accessed by using the convenience functions: `GPT.particles`, `GPT.tout` and `GPT.screen`, which return the corresponding list of ParticleGroups:"
   ]
  },
  {
   "cell_type": "code",
   "execution_count": null,
   "metadata": {
    "tags": []
   },
   "outputs": [],
   "source": [
    "allp = G.particles\n",
    "print('Total number of particle groups:',len(allp))\n",
    "\n",
    "touts = G.tout\n",
    "print('Number of touts:',len(touts))\n",
    "\n",
    "screens = G.screen\n",
    "print('Number of screens:',len(screens))"
   ]
  },
  {
   "cell_type": "markdown",
   "metadata": {},
   "source": [
    "Statistical quantities can be computed using `GPT.stat`.  Units are provided by `GPT.stat_units`."
   ]
  },
  {
   "cell_type": "code",
   "execution_count": null,
   "metadata": {
    "tags": []
   },
   "outputs": [],
   "source": [
    "# Some statistic that can be calculated on the particles\n",
    "print('Normalized x emittances at all output:\\n', G.stat('norm_emit_x'))\n",
    "print(f'in units of [{G.units(\"norm_emit_x\")}].')"
   ]
  },
  {
   "cell_type": "markdown",
   "metadata": {},
   "source": [
    "This returns the statistical quantiy on all data (touts and screens). The statisical data for touts and screens individually can also be accessed using `GPT.stat(key, 'tout')` and `GPT.stat(key, 'screen')`:"
   ]
  },
  {
   "cell_type": "code",
   "execution_count": null,
   "metadata": {
    "tags": []
   },
   "outputs": [],
   "source": [
    "print('Tout emittance:', G.stat('norm_emit_x','tout'))\n",
    "print('Screen emittance:', G.stat('norm_emit_x','screen'))"
   ]
  },
  {
   "cell_type": "markdown",
   "metadata": {},
   "source": [
    "# Trajectories\n",
    "The particle trajectories can be accessed using `GPT.trajectories(particle_ID_number, data_type='tout')`.  Here `particle_ID_number` is a unqiue identifying integer for a specific macroparticle. "
   ]
  },
  {
   "cell_type": "code",
   "execution_count": null,
   "metadata": {
    "tags": []
   },
   "outputs": [],
   "source": [
    "from matplotlib import pyplot as plt\n",
    "from mpl_toolkits.mplot3d import Axes3D\n",
    "import matplotlib \n",
    "\n",
    "%matplotlib inline\n",
    "#%config InlineBackend.figure_format = 'retina'\n",
    "\n",
    "fig = plt.figure()\n",
    "ax = fig.add_subplot(111, projection='3d')\n",
    "for ii in range(1,201):\n",
    "    tii = G.trajectory(ii, data_type='tout')\n",
    "    ax.plot(tii['x']*1000, tii['y']*1000, tii['z'], zdir='x')\n",
    "    \n",
    "ax.set_xlabel('z (m)');\n",
    "ax.set_ylabel('x (mm)');\n",
    "ax.set_zlabel('y (mm)');"
   ]
  },
  {
   "cell_type": "markdown",
   "metadata": {},
   "source": [
    "# Plot Statistics"
   ]
  },
  {
   "cell_type": "markdown",
   "metadata": {},
   "source": [
    "Potting basic statistical data is then simple, simply requred the desired data from G.stat:"
   ]
  },
  {
   "cell_type": "code",
   "execution_count": null,
   "metadata": {
    "tags": []
   },
   "outputs": [],
   "source": [
    "key1 = 'mean_z'\n",
    "key2 = 'norm_emit_x'\n",
    "\n",
    "# tout data\n",
    "tdat1 = G.stat(key1,'tout')\n",
    "tdat2 = G.stat(key2,'tout')\n",
    "\n",
    "# screen data\n",
    "pdat1 = G.stat(key1,'screen')\n",
    "pdat2 = G.stat(key2,'screen')\n",
    "\n",
    "units1 = G.units(key1)\n",
    "units2 = G.units(key2)\n",
    "\n",
    "fig, ax = plt.subplots()\n",
    "ax.plot(tdat1, tdat2*1e6, pdat1, pdat2*1e6, 'o');\n",
    "ax.set_xlabel(f'{key1} ({units1})');\n",
    "ax.set_ylabel(fr'{key2} ($\\mu${units2})');\n",
    "ax.legend(['tout','screen']);"
   ]
  },
  {
   "cell_type": "code",
   "execution_count": null,
   "metadata": {
    "tags": []
   },
   "outputs": [],
   "source": [
    "G.plot()"
   ]
  },
  {
   "cell_type": "code",
   "execution_count": null,
   "metadata": {
    "tags": []
   },
   "outputs": [],
   "source": [
    "# Fancier options\n",
    "G.plot(['norm_emit_x', 'norm_emit_y'], y2='mean_kinetic_energy', xlim = (0, 2), figsize=(15,8) )"
   ]
  },
  {
   "cell_type": "markdown",
   "metadata": {},
   "source": [
    "# Particle Densities\n",
    "PMD Beam Physics has some nice built in features for plotting particle distributions.  Below is a 2d histogram with marginal plots of the last tout:"
   ]
  },
  {
   "cell_type": "code",
   "execution_count": null,
   "metadata": {
    "tags": []
   },
   "outputs": [],
   "source": [
    "from pmd_beamphysics.plot import marginal_plot"
   ]
  },
  {
   "cell_type": "code",
   "execution_count": null,
   "metadata": {
    "tags": []
   },
   "outputs": [],
   "source": [
    "P = G.screen[-1]\n",
    "\n",
    "P.plot('t', 'kinetic_energy', bins=20)"
   ]
  },
  {
   "cell_type": "code",
   "execution_count": null,
   "metadata": {
    "tags": []
   },
   "outputs": [],
   "source": [
    "# Running using the run_gpt: the actions above are combined into one user function\n",
    "from gpt import run_gpt"
   ]
  },
  {
   "cell_type": "code",
   "execution_count": null,
   "metadata": {
    "tags": []
   },
   "outputs": [],
   "source": [
    "G = run_gpt(settings={'gun_voltage':375,'sol_1_current':-3}, \n",
    "            gpt_input_file='templates/dcgun/gpt.in', \n",
    "            verbose=True)"
   ]
  },
  {
   "cell_type": "code",
   "execution_count": null,
   "metadata": {
    "tags": []
   },
   "outputs": [],
   "source": [
    "print(G)"
   ]
  },
  {
   "cell_type": "markdown",
   "metadata": {},
   "source": [
    "# Passing in a openPMD-beamphysics Particle Group\n",
    "Here a particle group is made via Distgen and then passed into the GPT class before running.  The particle group is written to file and used by the GPT file. This allows users to run GPT simulations with break points.  \n",
    "\n",
    "Another useful feature this allows is for the user to set the particle ID's of the input particles, which can then be used to identify particles in the output data.  To do this first call `ParticleGroup.assign_id()` and then set the ID values using `ParticleGroup.id = user_ids`.  This is shown below."
   ]
  },
  {
   "cell_type": "code",
   "execution_count": null,
   "metadata": {
    "tags": []
   },
   "outputs": [],
   "source": [
    "from distgen import Generator\n",
    "from pmd_beamphysics import ParticleGroup\n",
    "import numpy as np\n",
    "\n",
    "gen = Generator('templates/dcgun_pmd/distgen.in.yaml')\n",
    "beam=gen.beam()\n",
    "\n",
    "P = ParticleGroup(data=beam.data())\n",
    "P.assign_id()\n",
    "N=5000\n",
    "ids = np.arange(N,N+gen['n_particle'])\n",
    "\n",
    "print('Input IDs:',ids)\n",
    "\n",
    "P.id=ids[::-1]\n",
    "G = GPT(input_file='templates/dcgun_pmd/gpt.in', initial_particles = P, verbose=True)\n",
    "G.run()\n",
    "print(G)\n",
    "\n",
    "print('\\nOutput IDs:',G.tout[-2]['id'])"
   ]
  },
  {
   "cell_type": "markdown",
   "metadata": {},
   "source": [
    "# Handling GPT Fieldmaps\n",
    "----\n",
    "GPT allows the user to use an array of different types of field maps.  In order to facilitate inspecting these maps, lume-gpt provides wrappers for the `gpt.maps.Map1D_E`, `gpt.maps.Map1D_B`, `gpt.maps.Map1D_TM`, `gpt.maps.Map2D_E`, `gpt.maps.Map2D_B`, and `gpt.maps.Map25D_TM`. To read the column names use `gpt.maps.get_gdf_header`, these are used to form the conversion dictionary of the column names in the GDF file to the GPT specified names for each type of map.\n",
    "\n",
    "# Map1D_E and Map1D_B\n",
    "The `gpt.maps.Map1D_E`, `gpt.maps.Map1D_B` objects give basic wrappers for the corresponding GPT field maps.  The integral of the 1D field can be accessed by `.on_axis_integral`."
   ]
  },
  {
   "cell_type": "code",
   "execution_count": null,
   "metadata": {
    "tags": []
   },
   "outputs": [],
   "source": [
    "from gpt.maps import Map1D_E\n",
    "from gpt.maps import Map1D_B\n",
    "\n",
    "fm1 = Map1D_E('dcgun', 'elements/fields/dcgun_GHV_1D.gdf')\n",
    "fm2 = Map1D_B('sol', 'elements/fields/solenoid_SLA_L60_1D.gdf')\n",
    "\n",
    "fig, axs = plt.subplots(1,2,sharex='col', constrained_layout=True, figsize=[10,4]);\n",
    "axs[0].plot(fm1['Z'], fm1['Ez']/1e6);\n",
    "axs[0].set_xlabel(r'$z$ (m)');\n",
    "axs[0].set_ylabel(r'$E_z(z)$ (MV/m)');\n",
    "axs[0].set_title(f'Gun Field Profile: Field Integral = {fm1.field_integral:G} Volts');\n",
    "\n",
    "axs[1].plot(fm2['z'], fm2['Bz']);\n",
    "axs[1].set_xlabel(r'$z$ (m)');\n",
    "axs[1].set_ylabel(r'$B_z(z)$ (T)');\n",
    "axs[1].set_title(f'Solenoid Field Profile: {fm2.field_integral:G} T');"
   ]
  },
  {
   "cell_type": "markdown",
   "metadata": {},
   "source": [
    "# Map1D_TM"
   ]
  },
  {
   "cell_type": "markdown",
   "metadata": {},
   "source": [
    "The RF equivalent of the Map1D_E and Map1D_B is the Map1D_TM."
   ]
  },
  {
   "cell_type": "code",
   "execution_count": null,
   "metadata": {
    "tags": []
   },
   "outputs": [],
   "source": [
    "from gpt.maps import Map1D_TM\n",
    "from gpt.maps import get_gdf_header"
   ]
  },
  {
   "cell_type": "code",
   "execution_count": null,
   "metadata": {
    "tags": []
   },
   "outputs": [],
   "source": [
    "cav = Map1D_TM('buncher', 'elements/fields/buncher_CTB_1D.gdf', frequency=1.3e6)\n",
    "\n",
    "cav.plot_field_profile();"
   ]
  },
  {
   "cell_type": "code",
   "execution_count": null,
   "metadata": {
    "tags": []
   },
   "outputs": [],
   "source": [
    "cav.cavity_voltage"
   ]
  },
  {
   "cell_type": "markdown",
   "metadata": {},
   "source": [
    "# Map2D_E and Map2D_B\n",
    "\n",
    "2D field maps for electrostatic and solenoid fields are handled using `gpt.field_map.Map2D_E` and `gpt.field_map.Map2D_B`:"
   ]
  },
  {
   "cell_type": "code",
   "execution_count": null,
   "metadata": {
    "tags": []
   },
   "outputs": [],
   "source": [
    "from gpt.maps import Map2D_E\n",
    "from gpt.maps import Map2D_B\n",
    "\n",
    "gun = Map2D_E('dcgun2D', 'elements/fields/gun_0mm.gdf')\n",
    "sol = Map2D_B('sol2D', 'elements/fields/solenoid_SLA_L60.gdf')\n",
    "\n",
    "fig, axs = plt.subplots(1, 2, sharex='col', constrained_layout=True, figsize=[10,4]);\n",
    "axs[0].plot(gun.z0, gun.Ez0/1e6);\n",
    "axs[0].set_xlabel('z (m)');\n",
    "axs[0].set_ylabel('Ez (MV/m)');\n",
    "axs[0].set_title(f'Field Integral: {gun.field_integral/1e3} kV');\n",
    "\n",
    "axs[1].plot(sol.z0, sol.Bz0*1e4);\n",
    "axs[1].set_xlabel('z (m)');\n",
    "axs[1].set_ylabel('Bz (G)');\n",
    "axs[1].set_title(f'Field Integral: {sol.field_integral/1e-4} G*m');"
   ]
  },
  {
   "cell_type": "markdown",
   "metadata": {},
   "source": [
    "# Map25D_TM\n",
    "The RF equivalent of the Map2D_E and Map2D_B is the Map25D_TM."
   ]
  },
  {
   "cell_type": "markdown",
   "metadata": {},
   "source": [
    "The field map coordinates and field components can also be scaled `.scale_coordinates` and `.scale_fields`.  To write a new GDF file use the `.write_gdf(new_gdf_file)` method.  "
   ]
  },
  {
   "cell_type": "markdown",
   "metadata": {},
   "source": [
    "# GPT Driver functions\n",
    "---\n",
    "For ease of use the setting of variables and running of GPT is combined in several driver functions which can be used to run a GPT simulaiton.  The output of these functions is a GPT object.  \n",
    "\n",
    "# run_gpt(...)\n",
    "The simples example is run_gpt(...).  Typical use is to pass in the GPT input file and variable replacements:"
   ]
  },
  {
   "cell_type": "code",
   "execution_count": null,
   "metadata": {
    "tags": []
   },
   "outputs": [],
   "source": [
    "from gpt import run_gpt\n",
    "\n",
    "G = run_gpt(settings={'gun_voltage':375,'sol_1_current':-3},\n",
    "            gpt_input_file='templates/dcgun/gpt.in',\n",
    "            verbose=True)\n",
    "\n",
    "print(G)"
   ]
  },
  {
   "cell_type": "markdown",
   "metadata": {},
   "source": [
    "# run_gpt_with_distgen(...)\n",
    "It is often desirable to run GPT with Distgen as the input particle source.  This is handled by gpt.run_gpt_with_distgen(...).  Used is the same as gpt.run_gpt(), except a distgen input file (or YAML string) are required:"
   ]
  },
  {
   "cell_type": "code",
   "execution_count": null,
   "metadata": {
    "tags": []
   },
   "outputs": [],
   "source": [
    "from gpt import run_gpt_with_distgen\n",
    "\n",
    "settings = {'gun_voltage':500,\n",
    "            'sol_1_current':-4.5,\n",
    "            'r_dist:max_r:value':0.5,\n",
    "            'total_charge:value':20,\n",
    "            'total_charge:units': 'pC',\n",
    "            't_dist:sigma_t:value': 8.5,\n",
    "            't_dist:sigma_t:units': 'ps',\n",
    "            'n_particle':1000,\n",
    "            'Ntout':500,\n",
    "           }\n",
    "\n",
    "G = run_gpt_with_distgen(settings=settings,\n",
    "                         gpt_input_file='templates/dcgun_distgen/gpt.in',\n",
    "                         distgen_input_file='templates/dcgun_distgen/distgen.in.yaml',\n",
    "                         verbose=True)\n",
    "\n",
    "print(G)"
   ]
  },
  {
   "cell_type": "code",
   "execution_count": null,
   "metadata": {
    "tags": []
   },
   "outputs": [],
   "source": [
    "tavgz = G.stat('mean_z','tout')\n",
    "tstdx = 1000*G.stat('sigma_x','tout')\n",
    "tstdy = 1000*G.stat('sigma_y','tout')\n",
    "\n",
    "pavgz = G.stat('mean_z','screen')\n",
    "pstdx = 1000*G.stat('sigma_x','screen')\n",
    "pstdy = 1000*G.stat('sigma_y','screen')\n",
    "\n",
    "fig, ax = plt.subplots()\n",
    "ax.plot(tavgz, tstdx, pavgz, pstdx, 'o', color='#1f77b4')\n",
    "ax.plot(tavgz, tstdy, pavgz, pstdy, 'o', color='#ff7f0e')\n",
    "ax.legend([r'$\\sigma_x$ tout', r'$\\sigma_x$ screen', r'$\\sigma_y$ tout', r'$\\sigma_y$ screen']);\n",
    "  \n",
    "plt.xlabel('s (m)')\n",
    "plt.ylabel(r'$\\sigma_{x,y}$ (mm)')\n",
    "plt.show()"
   ]
  },
  {
   "cell_type": "markdown",
   "metadata": {},
   "source": [
    "# Evaluate GPT, and Evaluate GPT with Distgen\n",
    "\n",
    "The Xopt optimization software requires an evaluation function to be run with GPT. This is similar to the run methods, except that the GPT object is processed by a merit function `merit_f`. If none is given, a default one will be used. Additionally, the complete object can be archived to an .h5 file with archive_path. The name will be invented based on the fingerprint"
   ]
  },
  {
   "cell_type": "code",
   "execution_count": null,
   "metadata": {
    "tags": []
   },
   "outputs": [],
   "source": [
    "from gpt import evaluate_gpt\n",
    "\n",
    "output1 = evaluate_gpt(settings={'gun_voltage':375,'sol_1_current':-3},\n",
    "                       gpt_input_file='templates/dcgun/gpt.in',\n",
    "                       archive_path = '.',\n",
    "                       verbose=False)\n",
    "output1\n"
   ]
  },
  {
   "cell_type": "code",
   "execution_count": null,
   "metadata": {
    "tags": []
   },
   "outputs": [],
   "source": [
    "# GPT with Distgen\n",
    "\n",
    "from gpt import evaluate_gpt_with_distgen\n",
    "\n",
    "output2 = evaluate_gpt_with_distgen(settings,\n",
    "                  gpt_input_file='templates/dcgun_distgen/gpt.in',\n",
    "                  distgen_input_file='templates/dcgun_distgen/distgen.in.yaml',\n",
    "                  archive_path = '.',\n",
    "                  verbose=False)\n"
   ]
  },
  {
   "cell_type": "code",
   "execution_count": null,
   "metadata": {
    "tags": []
   },
   "outputs": [],
   "source": [
    "output2"
   ]
  },
  {
   "cell_type": "markdown",
   "metadata": {},
   "source": [
    "# Archiving \n",
    "\n",
    "The above functions produced archives. These can always be made by calling the `.archive()` method. To test this functionality, print some data from the GPT object here, then save: \n",
    "\n"
   ]
  },
  {
   "cell_type": "code",
   "execution_count": null,
   "metadata": {
    "tags": []
   },
   "outputs": [],
   "source": [
    "print('finger print:', G.fingerprint())\n",
    "print('Example stat data:', G.particles[-1]['min_t'])\n",
    "print('Number of touts:', G.n_tout)\n",
    "\n",
    "afile = G.archive()\n"
   ]
  },
  {
   "cell_type": "code",
   "execution_count": null,
   "metadata": {
    "tags": []
   },
   "outputs": [],
   "source": [
    "# This can be loaded into a clean object. Check its fingerprint\n",
    "\n",
    "G2 = GPT()\n",
    "G2.load_archive(afile)\n",
    "print('finger print:', G2.fingerprint())\n",
    "print('example stat data:', G2.particles[-1]['min_t'])\n",
    "print('N tout:', G2.n_tout)\n"
   ]
  },
  {
   "cell_type": "code",
   "execution_count": null,
   "metadata": {
    "tags": []
   },
   "outputs": [],
   "source": [
    "# Check the archive above\n",
    "G3 = GPT()\n",
    "G3.load_archive(output2['archive'])\n",
    "G3.particles[-1]['min_t']\n",
    "G3.n_tout"
   ]
  },
  {
   "cell_type": "code",
   "execution_count": null,
   "metadata": {
    "tags": []
   },
   "outputs": [],
   "source": [
    "# Cleanup\n",
    "os.remove(afile)\n",
    "\n",
    "os.remove(output1['archive'])\n",
    "os.remove(output2['archive'])"
   ]
  },
  {
   "cell_type": "code",
   "execution_count": null,
   "metadata": {},
   "outputs": [],
   "source": []
  },
  {
   "cell_type": "code",
   "execution_count": null,
   "metadata": {},
   "outputs": [],
   "source": []
  },
  {
   "cell_type": "code",
   "execution_count": null,
   "metadata": {},
   "outputs": [],
   "source": []
  }
 ],
 "metadata": {
  "kernelspec": {
   "display_name": "Python 3 (ipykernel)",
   "language": "python",
   "name": "python3"
  },
  "language_info": {
   "codemirror_mode": {
    "name": "ipython",
    "version": 3
   },
   "file_extension": ".py",
   "mimetype": "text/x-python",
   "name": "python",
   "nbconvert_exporter": "python",
   "pygments_lexer": "ipython3",
   "version": "3.13.3"
  }
 },
 "nbformat": 4,
 "nbformat_minor": 4
}
